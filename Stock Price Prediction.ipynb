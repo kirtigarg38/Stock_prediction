{
  "nbformat": 4,
  "nbformat_minor": 0,
  "metadata": {
    "colab": {
      "provenance": [],
      "authorship_tag": "ABX9TyMjpV3XaSg5PbZcH1wkC76k",
      "include_colab_link": true
    },
    "kernelspec": {
      "name": "python3",
      "display_name": "Python 3"
    },
    "language_info": {
      "name": "python"
    }
  },
  "cells": [
    {
      "cell_type": "markdown",
      "metadata": {
        "id": "view-in-github",
        "colab_type": "text"
      },
      "source": [
        "<a href=\"https://colab.research.google.com/github/kirtigarg38/Stock_prediction/blob/main/Stock%20Price%20Prediction.ipynb\" target=\"_parent\"><img src=\"https://colab.research.google.com/assets/colab-badge.svg\" alt=\"Open In Colab\"/></a>"
      ]
    },
    {
      "cell_type": "code",
      "execution_count": 7,
      "metadata": {
        "id": "ww-WQXO_Wj1H",
        "colab": {
          "base_uri": "https://localhost:8080/"
        },
        "outputId": "071a352a-1455-4251-c3c6-cfa8928befee"
      },
      "outputs": [
        {
          "output_type": "stream",
          "name": "stdout",
          "text": [
            "                       date   close    high     low    open    volume  \\\n",
            "0  2020-01-02T00:00:00.000Z  300.35  300.60  295.19  296.24  33911864   \n",
            "1  2020-01-03T00:00:00.000Z  297.43  300.58  296.50  297.15  36633878   \n",
            "2  2020-01-06T00:00:00.000Z  299.80  299.96  292.75  293.79  29644644   \n",
            "3  2020-01-07T00:00:00.000Z  298.39  300.90  297.48  299.84  27877655   \n",
            "4  2020-01-08T00:00:00.000Z  303.19  304.44  297.16  297.16  33090946   \n",
            "\n",
            "    adjClose    adjHigh     adjLow    adjOpen  adjVolume  divCash  splitFactor  \n",
            "0  72.717436  72.777964  71.468154  71.722368  135647456      0.0          1.0  \n",
            "1  72.010478  72.773121  71.785317  71.942687  146535512      0.0          1.0  \n",
            "2  72.584276  72.623014  70.877408  71.129201  118578576      0.0          1.0  \n",
            "3  72.242903  72.850596  72.022583  72.593961  111510620      0.0          1.0  \n",
            "4  73.405026  73.707662  71.945109  71.945109  132363784      0.0          1.0  \n"
          ]
        }
      ],
      "source": [
        "from tiingo import TiingoClient\n",
        "import pandas as pd\n",
        "\n",
        "api_key = \"Replace with your key\"\n",
        "\n",
        "config = {'api_key': api_key}\n",
        "client = TiingoClient(config)\n",
        "\n",
        "# Fetch AAPL data with date range (required for this endpoint)\n",
        "start_date = \"2020-01-01\"\n",
        "end_date = \"2024-01-01\"\n",
        "\n",
        "# Use get_ticker_price with date parameters\n",
        "data = client.get_ticker_price(\n",
        "    \"AAPL\",\n",
        "    startDate=start_date,\n",
        "    endDate=end_date,\n",
        "    frequency='daily'\n",
        ")\n",
        "\n",
        "# Convert to DataFrame\n",
        "df = pd.DataFrame(data)\n",
        "print(df.head())"
      ]
    },
    {
      "cell_type": "code",
      "source": [
        "df.to_csv('AAPL.csv')"
      ],
      "metadata": {
        "id": "kUpsbSLvjBXF"
      },
      "execution_count": 8,
      "outputs": []
    },
    {
      "cell_type": "code",
      "source": [
        "import pandas as pd\n",
        "df=pd.read_csv('AAPL.csv')\n",
        "df.head()"
      ],
      "metadata": {
        "colab": {
          "base_uri": "https://localhost:8080/",
          "height": 206
        },
        "id": "OPSS38X7jDm9",
        "outputId": "7b26611c-c518-434d-ea90-6fba504bc2dc"
      },
      "execution_count": 9,
      "outputs": [
        {
          "output_type": "execute_result",
          "data": {
            "text/plain": [
              "   Unnamed: 0                      date   close    high     low    open  \\\n",
              "0           0  2020-01-02T00:00:00.000Z  300.35  300.60  295.19  296.24   \n",
              "1           1  2020-01-03T00:00:00.000Z  297.43  300.58  296.50  297.15   \n",
              "2           2  2020-01-06T00:00:00.000Z  299.80  299.96  292.75  293.79   \n",
              "3           3  2020-01-07T00:00:00.000Z  298.39  300.90  297.48  299.84   \n",
              "4           4  2020-01-08T00:00:00.000Z  303.19  304.44  297.16  297.16   \n",
              "\n",
              "     volume   adjClose    adjHigh     adjLow    adjOpen  adjVolume  divCash  \\\n",
              "0  33911864  72.717436  72.777964  71.468154  71.722368  135647456      0.0   \n",
              "1  36633878  72.010478  72.773121  71.785317  71.942687  146535512      0.0   \n",
              "2  29644644  72.584276  72.623014  70.877408  71.129201  118578576      0.0   \n",
              "3  27877655  72.242903  72.850596  72.022583  72.593961  111510620      0.0   \n",
              "4  33090946  73.405026  73.707662  71.945109  71.945109  132363784      0.0   \n",
              "\n",
              "   splitFactor  \n",
              "0          1.0  \n",
              "1          1.0  \n",
              "2          1.0  \n",
              "3          1.0  \n",
              "4          1.0  "
            ],
            "text/html": [
              "\n",
              "  <div id=\"df-15b44334-11a3-4755-a53a-b6bd0010cad6\" class=\"colab-df-container\">\n",
              "    <div>\n",
              "<style scoped>\n",
              "    .dataframe tbody tr th:only-of-type {\n",
              "        vertical-align: middle;\n",
              "    }\n",
              "\n",
              "    .dataframe tbody tr th {\n",
              "        vertical-align: top;\n",
              "    }\n",
              "\n",
              "    .dataframe thead th {\n",
              "        text-align: right;\n",
              "    }\n",
              "</style>\n",
              "<table border=\"1\" class=\"dataframe\">\n",
              "  <thead>\n",
              "    <tr style=\"text-align: right;\">\n",
              "      <th></th>\n",
              "      <th>Unnamed: 0</th>\n",
              "      <th>date</th>\n",
              "      <th>close</th>\n",
              "      <th>high</th>\n",
              "      <th>low</th>\n",
              "      <th>open</th>\n",
              "      <th>volume</th>\n",
              "      <th>adjClose</th>\n",
              "      <th>adjHigh</th>\n",
              "      <th>adjLow</th>\n",
              "      <th>adjOpen</th>\n",
              "      <th>adjVolume</th>\n",
              "      <th>divCash</th>\n",
              "      <th>splitFactor</th>\n",
              "    </tr>\n",
              "  </thead>\n",
              "  <tbody>\n",
              "    <tr>\n",
              "      <th>0</th>\n",
              "      <td>0</td>\n",
              "      <td>2020-01-02T00:00:00.000Z</td>\n",
              "      <td>300.35</td>\n",
              "      <td>300.60</td>\n",
              "      <td>295.19</td>\n",
              "      <td>296.24</td>\n",
              "      <td>33911864</td>\n",
              "      <td>72.717436</td>\n",
              "      <td>72.777964</td>\n",
              "      <td>71.468154</td>\n",
              "      <td>71.722368</td>\n",
              "      <td>135647456</td>\n",
              "      <td>0.0</td>\n",
              "      <td>1.0</td>\n",
              "    </tr>\n",
              "    <tr>\n",
              "      <th>1</th>\n",
              "      <td>1</td>\n",
              "      <td>2020-01-03T00:00:00.000Z</td>\n",
              "      <td>297.43</td>\n",
              "      <td>300.58</td>\n",
              "      <td>296.50</td>\n",
              "      <td>297.15</td>\n",
              "      <td>36633878</td>\n",
              "      <td>72.010478</td>\n",
              "      <td>72.773121</td>\n",
              "      <td>71.785317</td>\n",
              "      <td>71.942687</td>\n",
              "      <td>146535512</td>\n",
              "      <td>0.0</td>\n",
              "      <td>1.0</td>\n",
              "    </tr>\n",
              "    <tr>\n",
              "      <th>2</th>\n",
              "      <td>2</td>\n",
              "      <td>2020-01-06T00:00:00.000Z</td>\n",
              "      <td>299.80</td>\n",
              "      <td>299.96</td>\n",
              "      <td>292.75</td>\n",
              "      <td>293.79</td>\n",
              "      <td>29644644</td>\n",
              "      <td>72.584276</td>\n",
              "      <td>72.623014</td>\n",
              "      <td>70.877408</td>\n",
              "      <td>71.129201</td>\n",
              "      <td>118578576</td>\n",
              "      <td>0.0</td>\n",
              "      <td>1.0</td>\n",
              "    </tr>\n",
              "    <tr>\n",
              "      <th>3</th>\n",
              "      <td>3</td>\n",
              "      <td>2020-01-07T00:00:00.000Z</td>\n",
              "      <td>298.39</td>\n",
              "      <td>300.90</td>\n",
              "      <td>297.48</td>\n",
              "      <td>299.84</td>\n",
              "      <td>27877655</td>\n",
              "      <td>72.242903</td>\n",
              "      <td>72.850596</td>\n",
              "      <td>72.022583</td>\n",
              "      <td>72.593961</td>\n",
              "      <td>111510620</td>\n",
              "      <td>0.0</td>\n",
              "      <td>1.0</td>\n",
              "    </tr>\n",
              "    <tr>\n",
              "      <th>4</th>\n",
              "      <td>4</td>\n",
              "      <td>2020-01-08T00:00:00.000Z</td>\n",
              "      <td>303.19</td>\n",
              "      <td>304.44</td>\n",
              "      <td>297.16</td>\n",
              "      <td>297.16</td>\n",
              "      <td>33090946</td>\n",
              "      <td>73.405026</td>\n",
              "      <td>73.707662</td>\n",
              "      <td>71.945109</td>\n",
              "      <td>71.945109</td>\n",
              "      <td>132363784</td>\n",
              "      <td>0.0</td>\n",
              "      <td>1.0</td>\n",
              "    </tr>\n",
              "  </tbody>\n",
              "</table>\n",
              "</div>\n",
              "    <div class=\"colab-df-buttons\">\n",
              "\n",
              "  <div class=\"colab-df-container\">\n",
              "    <button class=\"colab-df-convert\" onclick=\"convertToInteractive('df-15b44334-11a3-4755-a53a-b6bd0010cad6')\"\n",
              "            title=\"Convert this dataframe to an interactive table.\"\n",
              "            style=\"display:none;\">\n",
              "\n",
              "  <svg xmlns=\"http://www.w3.org/2000/svg\" height=\"24px\" viewBox=\"0 -960 960 960\">\n",
              "    <path d=\"M120-120v-720h720v720H120Zm60-500h600v-160H180v160Zm220 220h160v-160H400v160Zm0 220h160v-160H400v160ZM180-400h160v-160H180v160Zm440 0h160v-160H620v160ZM180-180h160v-160H180v160Zm440 0h160v-160H620v160Z\"/>\n",
              "  </svg>\n",
              "    </button>\n",
              "\n",
              "  <style>\n",
              "    .colab-df-container {\n",
              "      display:flex;\n",
              "      gap: 12px;\n",
              "    }\n",
              "\n",
              "    .colab-df-convert {\n",
              "      background-color: #E8F0FE;\n",
              "      border: none;\n",
              "      border-radius: 50%;\n",
              "      cursor: pointer;\n",
              "      display: none;\n",
              "      fill: #1967D2;\n",
              "      height: 32px;\n",
              "      padding: 0 0 0 0;\n",
              "      width: 32px;\n",
              "    }\n",
              "\n",
              "    .colab-df-convert:hover {\n",
              "      background-color: #E2EBFA;\n",
              "      box-shadow: 0px 1px 2px rgba(60, 64, 67, 0.3), 0px 1px 3px 1px rgba(60, 64, 67, 0.15);\n",
              "      fill: #174EA6;\n",
              "    }\n",
              "\n",
              "    .colab-df-buttons div {\n",
              "      margin-bottom: 4px;\n",
              "    }\n",
              "\n",
              "    [theme=dark] .colab-df-convert {\n",
              "      background-color: #3B4455;\n",
              "      fill: #D2E3FC;\n",
              "    }\n",
              "\n",
              "    [theme=dark] .colab-df-convert:hover {\n",
              "      background-color: #434B5C;\n",
              "      box-shadow: 0px 1px 3px 1px rgba(0, 0, 0, 0.15);\n",
              "      filter: drop-shadow(0px 1px 2px rgba(0, 0, 0, 0.3));\n",
              "      fill: #FFFFFF;\n",
              "    }\n",
              "  </style>\n",
              "\n",
              "    <script>\n",
              "      const buttonEl =\n",
              "        document.querySelector('#df-15b44334-11a3-4755-a53a-b6bd0010cad6 button.colab-df-convert');\n",
              "      buttonEl.style.display =\n",
              "        google.colab.kernel.accessAllowed ? 'block' : 'none';\n",
              "\n",
              "      async function convertToInteractive(key) {\n",
              "        const element = document.querySelector('#df-15b44334-11a3-4755-a53a-b6bd0010cad6');\n",
              "        const dataTable =\n",
              "          await google.colab.kernel.invokeFunction('convertToInteractive',\n",
              "                                                    [key], {});\n",
              "        if (!dataTable) return;\n",
              "\n",
              "        const docLinkHtml = 'Like what you see? Visit the ' +\n",
              "          '<a target=\"_blank\" href=https://colab.research.google.com/notebooks/data_table.ipynb>data table notebook</a>'\n",
              "          + ' to learn more about interactive tables.';\n",
              "        element.innerHTML = '';\n",
              "        dataTable['output_type'] = 'display_data';\n",
              "        await google.colab.output.renderOutput(dataTable, element);\n",
              "        const docLink = document.createElement('div');\n",
              "        docLink.innerHTML = docLinkHtml;\n",
              "        element.appendChild(docLink);\n",
              "      }\n",
              "    </script>\n",
              "  </div>\n",
              "\n",
              "\n",
              "<div id=\"df-b6cab6f6-1f6b-4027-9ac6-3ac3307c1162\">\n",
              "  <button class=\"colab-df-quickchart\" onclick=\"quickchart('df-b6cab6f6-1f6b-4027-9ac6-3ac3307c1162')\"\n",
              "            title=\"Suggest charts\"\n",
              "            style=\"display:none;\">\n",
              "\n",
              "<svg xmlns=\"http://www.w3.org/2000/svg\" height=\"24px\"viewBox=\"0 0 24 24\"\n",
              "     width=\"24px\">\n",
              "    <g>\n",
              "        <path d=\"M19 3H5c-1.1 0-2 .9-2 2v14c0 1.1.9 2 2 2h14c1.1 0 2-.9 2-2V5c0-1.1-.9-2-2-2zM9 17H7v-7h2v7zm4 0h-2V7h2v10zm4 0h-2v-4h2v4z\"/>\n",
              "    </g>\n",
              "</svg>\n",
              "  </button>\n",
              "\n",
              "<style>\n",
              "  .colab-df-quickchart {\n",
              "      --bg-color: #E8F0FE;\n",
              "      --fill-color: #1967D2;\n",
              "      --hover-bg-color: #E2EBFA;\n",
              "      --hover-fill-color: #174EA6;\n",
              "      --disabled-fill-color: #AAA;\n",
              "      --disabled-bg-color: #DDD;\n",
              "  }\n",
              "\n",
              "  [theme=dark] .colab-df-quickchart {\n",
              "      --bg-color: #3B4455;\n",
              "      --fill-color: #D2E3FC;\n",
              "      --hover-bg-color: #434B5C;\n",
              "      --hover-fill-color: #FFFFFF;\n",
              "      --disabled-bg-color: #3B4455;\n",
              "      --disabled-fill-color: #666;\n",
              "  }\n",
              "\n",
              "  .colab-df-quickchart {\n",
              "    background-color: var(--bg-color);\n",
              "    border: none;\n",
              "    border-radius: 50%;\n",
              "    cursor: pointer;\n",
              "    display: none;\n",
              "    fill: var(--fill-color);\n",
              "    height: 32px;\n",
              "    padding: 0;\n",
              "    width: 32px;\n",
              "  }\n",
              "\n",
              "  .colab-df-quickchart:hover {\n",
              "    background-color: var(--hover-bg-color);\n",
              "    box-shadow: 0 1px 2px rgba(60, 64, 67, 0.3), 0 1px 3px 1px rgba(60, 64, 67, 0.15);\n",
              "    fill: var(--button-hover-fill-color);\n",
              "  }\n",
              "\n",
              "  .colab-df-quickchart-complete:disabled,\n",
              "  .colab-df-quickchart-complete:disabled:hover {\n",
              "    background-color: var(--disabled-bg-color);\n",
              "    fill: var(--disabled-fill-color);\n",
              "    box-shadow: none;\n",
              "  }\n",
              "\n",
              "  .colab-df-spinner {\n",
              "    border: 2px solid var(--fill-color);\n",
              "    border-color: transparent;\n",
              "    border-bottom-color: var(--fill-color);\n",
              "    animation:\n",
              "      spin 1s steps(1) infinite;\n",
              "  }\n",
              "\n",
              "  @keyframes spin {\n",
              "    0% {\n",
              "      border-color: transparent;\n",
              "      border-bottom-color: var(--fill-color);\n",
              "      border-left-color: var(--fill-color);\n",
              "    }\n",
              "    20% {\n",
              "      border-color: transparent;\n",
              "      border-left-color: var(--fill-color);\n",
              "      border-top-color: var(--fill-color);\n",
              "    }\n",
              "    30% {\n",
              "      border-color: transparent;\n",
              "      border-left-color: var(--fill-color);\n",
              "      border-top-color: var(--fill-color);\n",
              "      border-right-color: var(--fill-color);\n",
              "    }\n",
              "    40% {\n",
              "      border-color: transparent;\n",
              "      border-right-color: var(--fill-color);\n",
              "      border-top-color: var(--fill-color);\n",
              "    }\n",
              "    60% {\n",
              "      border-color: transparent;\n",
              "      border-right-color: var(--fill-color);\n",
              "    }\n",
              "    80% {\n",
              "      border-color: transparent;\n",
              "      border-right-color: var(--fill-color);\n",
              "      border-bottom-color: var(--fill-color);\n",
              "    }\n",
              "    90% {\n",
              "      border-color: transparent;\n",
              "      border-bottom-color: var(--fill-color);\n",
              "    }\n",
              "  }\n",
              "</style>\n",
              "\n",
              "  <script>\n",
              "    async function quickchart(key) {\n",
              "      const quickchartButtonEl =\n",
              "        document.querySelector('#' + key + ' button');\n",
              "      quickchartButtonEl.disabled = true;  // To prevent multiple clicks.\n",
              "      quickchartButtonEl.classList.add('colab-df-spinner');\n",
              "      try {\n",
              "        const charts = await google.colab.kernel.invokeFunction(\n",
              "            'suggestCharts', [key], {});\n",
              "      } catch (error) {\n",
              "        console.error('Error during call to suggestCharts:', error);\n",
              "      }\n",
              "      quickchartButtonEl.classList.remove('colab-df-spinner');\n",
              "      quickchartButtonEl.classList.add('colab-df-quickchart-complete');\n",
              "    }\n",
              "    (() => {\n",
              "      let quickchartButtonEl =\n",
              "        document.querySelector('#df-b6cab6f6-1f6b-4027-9ac6-3ac3307c1162 button');\n",
              "      quickchartButtonEl.style.display =\n",
              "        google.colab.kernel.accessAllowed ? 'block' : 'none';\n",
              "    })();\n",
              "  </script>\n",
              "</div>\n",
              "\n",
              "    </div>\n",
              "  </div>\n"
            ],
            "application/vnd.google.colaboratory.intrinsic+json": {
              "type": "dataframe",
              "variable_name": "df",
              "summary": "{\n  \"name\": \"df\",\n  \"rows\": 1006,\n  \"fields\": [\n    {\n      \"column\": \"Unnamed: 0\",\n      \"properties\": {\n        \"dtype\": \"number\",\n        \"std\": 290,\n        \"min\": 0,\n        \"max\": 1005,\n        \"num_unique_values\": 1006,\n        \"samples\": [\n          927,\n          630,\n          682\n        ],\n        \"semantic_type\": \"\",\n        \"description\": \"\"\n      }\n    },\n    {\n      \"column\": \"date\",\n      \"properties\": {\n        \"dtype\": \"object\",\n        \"num_unique_values\": 1006,\n        \"samples\": [\n          \"2023-09-08T00:00:00.000Z\",\n          \"2022-07-05T00:00:00.000Z\",\n          \"2022-09-16T00:00:00.000Z\"\n        ],\n        \"semantic_type\": \"\",\n        \"description\": \"\"\n      }\n    },\n    {\n      \"column\": \"close\",\n      \"properties\": {\n        \"dtype\": \"number\",\n        \"std\": 74.64224341519721,\n        \"min\": 106.84,\n        \"max\": 506.09,\n        \"num_unique_values\": 956,\n        \"samples\": [\n          124.85,\n          178.19,\n          168.88\n        ],\n        \"semantic_type\": \"\",\n        \"description\": \"\"\n      }\n    },\n    {\n      \"column\": \"high\",\n      \"properties\": {\n        \"dtype\": \"number\",\n        \"std\": 75.43472395850495,\n        \"min\": 110.19,\n        \"max\": 515.14,\n        \"num_unique_values\": 970,\n        \"samples\": [\n          164.515,\n          130.2242,\n          146.55\n        ],\n        \"semantic_type\": \"\",\n        \"description\": \"\"\n      }\n    },\n    {\n      \"column\": \"low\",\n      \"properties\": {\n        \"dtype\": \"number\",\n        \"std\": 73.49264835866886,\n        \"min\": 103.1,\n        \"max\": 500.33,\n        \"num_unique_values\": 977,\n        \"samples\": [\n          118.15,\n          159.41,\n          112.5\n        ],\n        \"semantic_type\": \"\",\n        \"description\": \"\"\n      }\n    },\n    {\n      \"column\": \"open\",\n      \"properties\": {\n        \"dtype\": \"number\",\n        \"std\": 74.3468220390758,\n        \"min\": 104.54,\n        \"max\": 514.79,\n        \"num_unique_values\": 963,\n        \"samples\": [\n          163.84,\n          127.82,\n          127.21\n        ],\n        \"semantic_type\": \"\",\n        \"description\": \"\"\n      }\n    },\n    {\n      \"column\": \"volume\",\n      \"properties\": {\n        \"dtype\": \"number\",\n        \"std\": 36730078,\n        \"min\": 20028447,\n        \"max\": 332607163,\n        \"num_unique_values\": 1006,\n        \"samples\": [\n          65602066,\n          73429641,\n          162278841\n        ],\n        \"semantic_type\": \"\",\n        \"description\": \"\"\n      }\n    },\n    {\n      \"column\": \"adjClose\",\n      \"properties\": {\n        \"dtype\": \"number\",\n        \"std\": 33.50421802115787,\n        \"min\": 54.4526949734,\n        \"max\": 196.9284535598,\n        \"num_unique_values\": 994,\n        \"samples\": [\n          172.9483151455,\n          173.4747839077,\n          164.9919575106\n        ],\n        \"semantic_type\": \"\",\n        \"description\": \"\"\n      }\n    },\n    {\n      \"column\": \"adjHigh\",\n      \"properties\": {\n        \"dtype\": \"number\",\n        \"std\": 33.62477468594232,\n        \"min\": 55.4550109258,\n        \"max\": 198.4294477796,\n        \"num_unique_values\": 997,\n        \"samples\": [\n          146.9457866125,\n          152.4961415082,\n          108.7170863424\n        ],\n        \"semantic_type\": \"\",\n        \"description\": \"\"\n      }\n    },\n    {\n      \"column\": \"adjLow\",\n      \"properties\": {\n        \"dtype\": \"number\",\n        \"std\": 33.364378404236895,\n        \"min\": 51.5986427699,\n        \"max\": 195.8250737029,\n        \"num_unique_values\": 1000,\n        \"samples\": [\n          170.3543263483,\n          139.4430072043,\n          134.4657241951\n        ],\n        \"semantic_type\": \"\",\n        \"description\": \"\"\n      }\n    },\n    {\n      \"column\": \"adjOpen\",\n      \"properties\": {\n        \"dtype\": \"number\",\n        \"std\": 33.49778756272881,\n        \"min\": 55.3530804899,\n        \"max\": 196.8389903282,\n        \"num_unique_values\": 994,\n        \"samples\": [\n          178.1900756872,\n          169.5876418812,\n          164.7262541316\n        ],\n        \"semantic_type\": \"\",\n        \"description\": \"\"\n      }\n    },\n    {\n      \"column\": \"adjVolume\",\n      \"properties\": {\n        \"dtype\": \"number\",\n        \"std\": 54408118,\n        \"min\": 24048344,\n        \"max\": 426884920,\n        \"num_unique_values\": 1006,\n        \"samples\": [\n          65602066,\n          73429641,\n          162278841\n        ],\n        \"semantic_type\": \"\",\n        \"description\": \"\"\n      }\n    },\n    {\n      \"column\": \"divCash\",\n      \"properties\": {\n        \"dtype\": \"number\",\n        \"std\": 0.05058271855170123,\n        \"min\": 0.0,\n        \"max\": 0.82,\n        \"num_unique_values\": 7,\n        \"samples\": [\n          0.0,\n          0.77,\n          0.23\n        ],\n        \"semantic_type\": \"\",\n        \"description\": \"\"\n      }\n    },\n    {\n      \"column\": \"splitFactor\",\n      \"properties\": {\n        \"dtype\": \"number\",\n        \"std\": 0.09458499916791259,\n        \"min\": 1.0,\n        \"max\": 4.0,\n        \"num_unique_values\": 2,\n        \"samples\": [\n          4.0,\n          1.0\n        ],\n        \"semantic_type\": \"\",\n        \"description\": \"\"\n      }\n    }\n  ]\n}"
            }
          },
          "metadata": {},
          "execution_count": 9
        }
      ]
    },
    {
      "cell_type": "code",
      "source": [
        "df.tail()"
      ],
      "metadata": {
        "colab": {
          "base_uri": "https://localhost:8080/",
          "height": 206
        },
        "id": "_B3Bj5GRjShO",
        "outputId": "9e67399b-1767-4032-a3d8-30fa87a4c125"
      },
      "execution_count": 10,
      "outputs": [
        {
          "output_type": "execute_result",
          "data": {
            "text/plain": [
              "      Unnamed: 0                      date   close    high      low    open  \\\n",
              "1001        1001  2023-12-22T00:00:00.000Z  193.60  195.41  192.970  195.18   \n",
              "1002        1002  2023-12-26T00:00:00.000Z  193.05  193.89  192.830  193.61   \n",
              "1003        1003  2023-12-27T00:00:00.000Z  193.15  193.50  191.090  192.49   \n",
              "1004        1004  2023-12-28T00:00:00.000Z  193.58  194.66  193.170  194.14   \n",
              "1005        1005  2023-12-29T00:00:00.000Z  192.53  194.40  191.725  193.90   \n",
              "\n",
              "        volume    adjClose     adjHigh      adjLow     adjOpen  adjVolume  \\\n",
              "1001  37149570  192.445352  194.244557  191.819109  194.015928   37149570   \n",
              "1002  28919310  191.898632  192.733622  191.679944  192.455292   28919310   \n",
              "1003  47899806  191.998035  192.345948  189.950321  191.341972   47899806   \n",
              "1004  34049898  192.425471  193.499030  192.017916  192.982131   34049898   \n",
              "1005  42672148  191.381733  193.240580  190.581534  192.743562   42672148   \n",
              "\n",
              "      divCash  splitFactor  \n",
              "1001      0.0          1.0  \n",
              "1002      0.0          1.0  \n",
              "1003      0.0          1.0  \n",
              "1004      0.0          1.0  \n",
              "1005      0.0          1.0  "
            ],
            "text/html": [
              "\n",
              "  <div id=\"df-14004105-9aa0-49ab-9f7e-6704dc81c12c\" class=\"colab-df-container\">\n",
              "    <div>\n",
              "<style scoped>\n",
              "    .dataframe tbody tr th:only-of-type {\n",
              "        vertical-align: middle;\n",
              "    }\n",
              "\n",
              "    .dataframe tbody tr th {\n",
              "        vertical-align: top;\n",
              "    }\n",
              "\n",
              "    .dataframe thead th {\n",
              "        text-align: right;\n",
              "    }\n",
              "</style>\n",
              "<table border=\"1\" class=\"dataframe\">\n",
              "  <thead>\n",
              "    <tr style=\"text-align: right;\">\n",
              "      <th></th>\n",
              "      <th>Unnamed: 0</th>\n",
              "      <th>date</th>\n",
              "      <th>close</th>\n",
              "      <th>high</th>\n",
              "      <th>low</th>\n",
              "      <th>open</th>\n",
              "      <th>volume</th>\n",
              "      <th>adjClose</th>\n",
              "      <th>adjHigh</th>\n",
              "      <th>adjLow</th>\n",
              "      <th>adjOpen</th>\n",
              "      <th>adjVolume</th>\n",
              "      <th>divCash</th>\n",
              "      <th>splitFactor</th>\n",
              "    </tr>\n",
              "  </thead>\n",
              "  <tbody>\n",
              "    <tr>\n",
              "      <th>1001</th>\n",
              "      <td>1001</td>\n",
              "      <td>2023-12-22T00:00:00.000Z</td>\n",
              "      <td>193.60</td>\n",
              "      <td>195.41</td>\n",
              "      <td>192.970</td>\n",
              "      <td>195.18</td>\n",
              "      <td>37149570</td>\n",
              "      <td>192.445352</td>\n",
              "      <td>194.244557</td>\n",
              "      <td>191.819109</td>\n",
              "      <td>194.015928</td>\n",
              "      <td>37149570</td>\n",
              "      <td>0.0</td>\n",
              "      <td>1.0</td>\n",
              "    </tr>\n",
              "    <tr>\n",
              "      <th>1002</th>\n",
              "      <td>1002</td>\n",
              "      <td>2023-12-26T00:00:00.000Z</td>\n",
              "      <td>193.05</td>\n",
              "      <td>193.89</td>\n",
              "      <td>192.830</td>\n",
              "      <td>193.61</td>\n",
              "      <td>28919310</td>\n",
              "      <td>191.898632</td>\n",
              "      <td>192.733622</td>\n",
              "      <td>191.679944</td>\n",
              "      <td>192.455292</td>\n",
              "      <td>28919310</td>\n",
              "      <td>0.0</td>\n",
              "      <td>1.0</td>\n",
              "    </tr>\n",
              "    <tr>\n",
              "      <th>1003</th>\n",
              "      <td>1003</td>\n",
              "      <td>2023-12-27T00:00:00.000Z</td>\n",
              "      <td>193.15</td>\n",
              "      <td>193.50</td>\n",
              "      <td>191.090</td>\n",
              "      <td>192.49</td>\n",
              "      <td>47899806</td>\n",
              "      <td>191.998035</td>\n",
              "      <td>192.345948</td>\n",
              "      <td>189.950321</td>\n",
              "      <td>191.341972</td>\n",
              "      <td>47899806</td>\n",
              "      <td>0.0</td>\n",
              "      <td>1.0</td>\n",
              "    </tr>\n",
              "    <tr>\n",
              "      <th>1004</th>\n",
              "      <td>1004</td>\n",
              "      <td>2023-12-28T00:00:00.000Z</td>\n",
              "      <td>193.58</td>\n",
              "      <td>194.66</td>\n",
              "      <td>193.170</td>\n",
              "      <td>194.14</td>\n",
              "      <td>34049898</td>\n",
              "      <td>192.425471</td>\n",
              "      <td>193.499030</td>\n",
              "      <td>192.017916</td>\n",
              "      <td>192.982131</td>\n",
              "      <td>34049898</td>\n",
              "      <td>0.0</td>\n",
              "      <td>1.0</td>\n",
              "    </tr>\n",
              "    <tr>\n",
              "      <th>1005</th>\n",
              "      <td>1005</td>\n",
              "      <td>2023-12-29T00:00:00.000Z</td>\n",
              "      <td>192.53</td>\n",
              "      <td>194.40</td>\n",
              "      <td>191.725</td>\n",
              "      <td>193.90</td>\n",
              "      <td>42672148</td>\n",
              "      <td>191.381733</td>\n",
              "      <td>193.240580</td>\n",
              "      <td>190.581534</td>\n",
              "      <td>192.743562</td>\n",
              "      <td>42672148</td>\n",
              "      <td>0.0</td>\n",
              "      <td>1.0</td>\n",
              "    </tr>\n",
              "  </tbody>\n",
              "</table>\n",
              "</div>\n",
              "    <div class=\"colab-df-buttons\">\n",
              "\n",
              "  <div class=\"colab-df-container\">\n",
              "    <button class=\"colab-df-convert\" onclick=\"convertToInteractive('df-14004105-9aa0-49ab-9f7e-6704dc81c12c')\"\n",
              "            title=\"Convert this dataframe to an interactive table.\"\n",
              "            style=\"display:none;\">\n",
              "\n",
              "  <svg xmlns=\"http://www.w3.org/2000/svg\" height=\"24px\" viewBox=\"0 -960 960 960\">\n",
              "    <path d=\"M120-120v-720h720v720H120Zm60-500h600v-160H180v160Zm220 220h160v-160H400v160Zm0 220h160v-160H400v160ZM180-400h160v-160H180v160Zm440 0h160v-160H620v160ZM180-180h160v-160H180v160Zm440 0h160v-160H620v160Z\"/>\n",
              "  </svg>\n",
              "    </button>\n",
              "\n",
              "  <style>\n",
              "    .colab-df-container {\n",
              "      display:flex;\n",
              "      gap: 12px;\n",
              "    }\n",
              "\n",
              "    .colab-df-convert {\n",
              "      background-color: #E8F0FE;\n",
              "      border: none;\n",
              "      border-radius: 50%;\n",
              "      cursor: pointer;\n",
              "      display: none;\n",
              "      fill: #1967D2;\n",
              "      height: 32px;\n",
              "      padding: 0 0 0 0;\n",
              "      width: 32px;\n",
              "    }\n",
              "\n",
              "    .colab-df-convert:hover {\n",
              "      background-color: #E2EBFA;\n",
              "      box-shadow: 0px 1px 2px rgba(60, 64, 67, 0.3), 0px 1px 3px 1px rgba(60, 64, 67, 0.15);\n",
              "      fill: #174EA6;\n",
              "    }\n",
              "\n",
              "    .colab-df-buttons div {\n",
              "      margin-bottom: 4px;\n",
              "    }\n",
              "\n",
              "    [theme=dark] .colab-df-convert {\n",
              "      background-color: #3B4455;\n",
              "      fill: #D2E3FC;\n",
              "    }\n",
              "\n",
              "    [theme=dark] .colab-df-convert:hover {\n",
              "      background-color: #434B5C;\n",
              "      box-shadow: 0px 1px 3px 1px rgba(0, 0, 0, 0.15);\n",
              "      filter: drop-shadow(0px 1px 2px rgba(0, 0, 0, 0.3));\n",
              "      fill: #FFFFFF;\n",
              "    }\n",
              "  </style>\n",
              "\n",
              "    <script>\n",
              "      const buttonEl =\n",
              "        document.querySelector('#df-14004105-9aa0-49ab-9f7e-6704dc81c12c button.colab-df-convert');\n",
              "      buttonEl.style.display =\n",
              "        google.colab.kernel.accessAllowed ? 'block' : 'none';\n",
              "\n",
              "      async function convertToInteractive(key) {\n",
              "        const element = document.querySelector('#df-14004105-9aa0-49ab-9f7e-6704dc81c12c');\n",
              "        const dataTable =\n",
              "          await google.colab.kernel.invokeFunction('convertToInteractive',\n",
              "                                                    [key], {});\n",
              "        if (!dataTable) return;\n",
              "\n",
              "        const docLinkHtml = 'Like what you see? Visit the ' +\n",
              "          '<a target=\"_blank\" href=https://colab.research.google.com/notebooks/data_table.ipynb>data table notebook</a>'\n",
              "          + ' to learn more about interactive tables.';\n",
              "        element.innerHTML = '';\n",
              "        dataTable['output_type'] = 'display_data';\n",
              "        await google.colab.output.renderOutput(dataTable, element);\n",
              "        const docLink = document.createElement('div');\n",
              "        docLink.innerHTML = docLinkHtml;\n",
              "        element.appendChild(docLink);\n",
              "      }\n",
              "    </script>\n",
              "  </div>\n",
              "\n",
              "\n",
              "<div id=\"df-038e4eb8-3ad2-4f4c-8aa2-d49d7763b713\">\n",
              "  <button class=\"colab-df-quickchart\" onclick=\"quickchart('df-038e4eb8-3ad2-4f4c-8aa2-d49d7763b713')\"\n",
              "            title=\"Suggest charts\"\n",
              "            style=\"display:none;\">\n",
              "\n",
              "<svg xmlns=\"http://www.w3.org/2000/svg\" height=\"24px\"viewBox=\"0 0 24 24\"\n",
              "     width=\"24px\">\n",
              "    <g>\n",
              "        <path d=\"M19 3H5c-1.1 0-2 .9-2 2v14c0 1.1.9 2 2 2h14c1.1 0 2-.9 2-2V5c0-1.1-.9-2-2-2zM9 17H7v-7h2v7zm4 0h-2V7h2v10zm4 0h-2v-4h2v4z\"/>\n",
              "    </g>\n",
              "</svg>\n",
              "  </button>\n",
              "\n",
              "<style>\n",
              "  .colab-df-quickchart {\n",
              "      --bg-color: #E8F0FE;\n",
              "      --fill-color: #1967D2;\n",
              "      --hover-bg-color: #E2EBFA;\n",
              "      --hover-fill-color: #174EA6;\n",
              "      --disabled-fill-color: #AAA;\n",
              "      --disabled-bg-color: #DDD;\n",
              "  }\n",
              "\n",
              "  [theme=dark] .colab-df-quickchart {\n",
              "      --bg-color: #3B4455;\n",
              "      --fill-color: #D2E3FC;\n",
              "      --hover-bg-color: #434B5C;\n",
              "      --hover-fill-color: #FFFFFF;\n",
              "      --disabled-bg-color: #3B4455;\n",
              "      --disabled-fill-color: #666;\n",
              "  }\n",
              "\n",
              "  .colab-df-quickchart {\n",
              "    background-color: var(--bg-color);\n",
              "    border: none;\n",
              "    border-radius: 50%;\n",
              "    cursor: pointer;\n",
              "    display: none;\n",
              "    fill: var(--fill-color);\n",
              "    height: 32px;\n",
              "    padding: 0;\n",
              "    width: 32px;\n",
              "  }\n",
              "\n",
              "  .colab-df-quickchart:hover {\n",
              "    background-color: var(--hover-bg-color);\n",
              "    box-shadow: 0 1px 2px rgba(60, 64, 67, 0.3), 0 1px 3px 1px rgba(60, 64, 67, 0.15);\n",
              "    fill: var(--button-hover-fill-color);\n",
              "  }\n",
              "\n",
              "  .colab-df-quickchart-complete:disabled,\n",
              "  .colab-df-quickchart-complete:disabled:hover {\n",
              "    background-color: var(--disabled-bg-color);\n",
              "    fill: var(--disabled-fill-color);\n",
              "    box-shadow: none;\n",
              "  }\n",
              "\n",
              "  .colab-df-spinner {\n",
              "    border: 2px solid var(--fill-color);\n",
              "    border-color: transparent;\n",
              "    border-bottom-color: var(--fill-color);\n",
              "    animation:\n",
              "      spin 1s steps(1) infinite;\n",
              "  }\n",
              "\n",
              "  @keyframes spin {\n",
              "    0% {\n",
              "      border-color: transparent;\n",
              "      border-bottom-color: var(--fill-color);\n",
              "      border-left-color: var(--fill-color);\n",
              "    }\n",
              "    20% {\n",
              "      border-color: transparent;\n",
              "      border-left-color: var(--fill-color);\n",
              "      border-top-color: var(--fill-color);\n",
              "    }\n",
              "    30% {\n",
              "      border-color: transparent;\n",
              "      border-left-color: var(--fill-color);\n",
              "      border-top-color: var(--fill-color);\n",
              "      border-right-color: var(--fill-color);\n",
              "    }\n",
              "    40% {\n",
              "      border-color: transparent;\n",
              "      border-right-color: var(--fill-color);\n",
              "      border-top-color: var(--fill-color);\n",
              "    }\n",
              "    60% {\n",
              "      border-color: transparent;\n",
              "      border-right-color: var(--fill-color);\n",
              "    }\n",
              "    80% {\n",
              "      border-color: transparent;\n",
              "      border-right-color: var(--fill-color);\n",
              "      border-bottom-color: var(--fill-color);\n",
              "    }\n",
              "    90% {\n",
              "      border-color: transparent;\n",
              "      border-bottom-color: var(--fill-color);\n",
              "    }\n",
              "  }\n",
              "</style>\n",
              "\n",
              "  <script>\n",
              "    async function quickchart(key) {\n",
              "      const quickchartButtonEl =\n",
              "        document.querySelector('#' + key + ' button');\n",
              "      quickchartButtonEl.disabled = true;  // To prevent multiple clicks.\n",
              "      quickchartButtonEl.classList.add('colab-df-spinner');\n",
              "      try {\n",
              "        const charts = await google.colab.kernel.invokeFunction(\n",
              "            'suggestCharts', [key], {});\n",
              "      } catch (error) {\n",
              "        console.error('Error during call to suggestCharts:', error);\n",
              "      }\n",
              "      quickchartButtonEl.classList.remove('colab-df-spinner');\n",
              "      quickchartButtonEl.classList.add('colab-df-quickchart-complete');\n",
              "    }\n",
              "    (() => {\n",
              "      let quickchartButtonEl =\n",
              "        document.querySelector('#df-038e4eb8-3ad2-4f4c-8aa2-d49d7763b713 button');\n",
              "      quickchartButtonEl.style.display =\n",
              "        google.colab.kernel.accessAllowed ? 'block' : 'none';\n",
              "    })();\n",
              "  </script>\n",
              "</div>\n",
              "\n",
              "    </div>\n",
              "  </div>\n"
            ],
            "application/vnd.google.colaboratory.intrinsic+json": {
              "type": "dataframe",
              "repr_error": "0"
            }
          },
          "metadata": {},
          "execution_count": 10
        }
      ]
    },
    {
      "cell_type": "code",
      "source": [
        "df1=df.reset_index()['close']"
      ],
      "metadata": {
        "id": "9wT3sQOsjf4O"
      },
      "execution_count": 11,
      "outputs": []
    },
    {
      "cell_type": "code",
      "source": [
        "import matplotlib.pyplot as plt\n",
        "plt.plot(df1)"
      ],
      "metadata": {
        "colab": {
          "base_uri": "https://localhost:8080/",
          "height": 447
        },
        "id": "iHlw8Hiyjk9B",
        "outputId": "11f8ef99-989d-4c76-a84c-302d815194f6"
      },
      "execution_count": 12,
      "outputs": [
        {
          "output_type": "execute_result",
          "data": {
            "text/plain": [
              "[<matplotlib.lines.Line2D at 0x785af0e0f3d0>]"
            ]
          },
          "metadata": {},
          "execution_count": 12
        },
        {
          "output_type": "display_data",
          "data": {
            "text/plain": [
              "<Figure size 640x480 with 1 Axes>"
            ],
            "image/png": "[encoded data removed]"
          },
          "metadata": {}
        }
      ]
    },
    {
      "cell_type": "code",
      "source": [
        "import numpy as np\n",
        "from sklearn.preprocessing import MinMaxScaler\n",
        "scaler=MinMaxScaler(feature_range=(0,1))\n",
        "df1=scaler.fit_transform(np.array(df1).reshape(-1,1))"
      ],
      "metadata": {
        "id": "VD_nh0nujqdg"
      },
      "execution_count": 14,
      "outputs": []
    },
    {
      "cell_type": "code",
      "source": [
        "print(df1)"
      ],
      "metadata": {
        "colab": {
          "base_uri": "https://localhost:8080/"
        },
        "id": "70JzxJXyjwRn",
        "outputId": "120825e3-614f-40f5-f9da-f56ddfdfd26a"
      },
      "execution_count": 17,
      "outputs": [
        {
          "output_type": "stream",
          "name": "stdout",
          "text": [
            "[[0.48468378]\n",
            " [0.47737007]\n",
            " [0.4833062 ]\n",
            " ...\n",
            " [0.21618034]\n",
            " [0.21725736]\n",
            " [0.21462743]]\n"
          ]
        }
      ]
    },
    {
      "cell_type": "code",
      "source": [
        "##splitting dataset into train and test split\n",
        "training_size=int(len(df1)*0.65)\n",
        "test_size=len(df1)-training_size\n",
        "train_data,test_data=df1[0:training_size,:],df1[training_size:len(df1),:1]\n",
        "training_size,test_size"
      ],
      "metadata": {
        "colab": {
          "base_uri": "https://localhost:8080/"
        },
        "id": "MHWLshW8j03M",
        "outputId": "f8637ac9-dbad-4229-f14a-f3f5483e9e3f"
      },
      "execution_count": 18,
      "outputs": [
        {
          "output_type": "execute_result",
          "data": {
            "text/plain": [
              "(653, 353)"
            ]
          },
          "metadata": {},
          "execution_count": 18
        }
      ]
    },
    {
      "cell_type": "code",
      "source": [
        "import numpy\n",
        "# convert an array of values into a dataset matrix\n",
        "def create_dataset(dataset, time_step=1):\n",
        "\tdataX, dataY = [], []\n",
        "\tfor i in range(len(dataset)-time_step-1):\n",
        "\t\ta = dataset[i:(i+time_step), 0]   ###i=0, 0,1,2,3-----99   100\n",
        "\t\tdataX.append(a)\n",
        "\t\tdataY.append(dataset[i + time_step, 0])\n",
        "\treturn numpy.array(dataX), numpy.array(dataY)"
      ],
      "metadata": {
        "id": "et41T-Vtj7z_"
      },
      "execution_count": 20,
      "outputs": []
    },
    {
      "cell_type": "code",
      "source": [
        "# reshape into X=t,t+1,t+2,t+3 and Y=t+4\n",
        "time_step = 100\n",
        "X_train, y_train = create_dataset(train_data, time_step)\n",
        "X_test, ytest = create_dataset(test_data, time_step)"
      ],
      "metadata": {
        "id": "8PTnDS_4kGfc"
      },
      "execution_count": 22,
      "outputs": []
    },
    {
      "cell_type": "code",
      "source": [
        "print(X_train.shape), print(y_train.shape)"
      ],
      "metadata": {
        "colab": {
          "base_uri": "https://localhost:8080/"
        },
        "id": "DIu5R1ITkIUT",
        "outputId": "4ef2caae-c177-42e3-cca9-256f03cfc178"
      },
      "execution_count": 24,
      "outputs": [
        {
          "output_type": "stream",
          "name": "stdout",
          "text": [
            "(552, 100)\n",
            "(552,)\n"
          ]
        },
        {
          "output_type": "execute_result",
          "data": {
            "text/plain": [
              "(None, None)"
            ]
          },
          "metadata": {},
          "execution_count": 24
        }
      ]
    },
    {
      "cell_type": "code",
      "source": [
        "print(X_test.shape), print(ytest.shape)"
      ],
      "metadata": {
        "colab": {
          "base_uri": "https://localhost:8080/"
        },
        "id": "1FCctF5bkNzm",
        "outputId": "4f0402fb-df17-4a66-f68a-10e87663f800"
      },
      "execution_count": 25,
      "outputs": [
        {
          "output_type": "stream",
          "name": "stdout",
          "text": [
            "(252, 100)\n",
            "(252,)\n"
          ]
        },
        {
          "output_type": "execute_result",
          "data": {
            "text/plain": [
              "(None, None)"
            ]
          },
          "metadata": {},
          "execution_count": 25
        }
      ]
    },
    {
      "cell_type": "code",
      "source": [
        "# reshape input to be [samples, time steps, features] which is required for LSTM\n",
        "X_train =X_train.reshape(X_train.shape[0],X_train.shape[1] , 1)\n",
        "X_test = X_test.reshape(X_test.shape[0],X_test.shape[1] , 1)"
      ],
      "metadata": {
        "id": "8v6eN8hbkTxA"
      },
      "execution_count": 27,
      "outputs": []
    },
    {
      "cell_type": "code",
      "source": [
        "from tensorflow.keras.models import Sequential\n",
        "from tensorflow.keras.layers import Dense\n",
        "from tensorflow.keras.layers import LSTM"
      ],
      "metadata": {
        "id": "gyssslgUkXLo"
      },
      "execution_count": 28,
      "outputs": []
    },
    {
      "cell_type": "code",
      "source": [
        "model=Sequential()\n",
        "model.add(LSTM(50,return_sequences=True,input_shape=(100,1)))\n",
        "model.add(LSTM(50,return_sequences=True))\n",
        "model.add(LSTM(50))\n",
        "model.add(Dense(1))\n",
        "model.compile(loss='mean_squared_error',optimizer='adam')\n",
        "model.summary()"
      ],
      "metadata": {
        "colab": {
          "base_uri": "https://localhost:8080/",
          "height": 325
        },
        "id": "900Q380okbTW",
        "outputId": "a41f58d7-2e39-4e8c-83bd-2427497b4215"
      },
      "execution_count": 29,
      "outputs": [
        {
          "output_type": "stream",
          "name": "stderr",
          "text": [
            "/usr/local/lib/python3.11/dist-packages/keras/src/layers/rnn/rnn.py:200: UserWarning: Do not pass an `input_shape`/`input_dim` argument to a layer. When using Sequential models, prefer using an `Input(shape)` object as the first layer in the model instead.\n",
            "  super().__init__(**kwargs)\n"
          ]
        },
        {
          "output_type": "display_data",
          "data": {
            "text/plain": [
              "\u001b[1mModel: \"sequential\"\u001b[0m\n"
            ],
            "text/html": [
              "<pre style=\"white-space:pre;overflow-x:auto;line-height:normal;font-family:Menlo,'DejaVu Sans Mono',consolas,'Courier New',monospace\"><span style=\"font-weight: bold\">Model: \"sequential\"</span>\n",
              "</pre>\n"
            ]
          },
          "metadata": {}
        },
        {
          "output_type": "display_data",
          "data": {
            "text/plain": [
              "┏━━━━━━━━━━━━━━━━━━━━━━━━━━━━━━━━━━━━━━┳━━━━━━━━━━━━━━━━━━━━━━━━━━━━━┳━━━━━━━━━━━━━━━━━┓\n",
              "┃\u001b[1m \u001b[0m\u001b[1mLayer (type)                        \u001b[0m\u001b[1m \u001b[0m┃\u001b[1m \u001b[0m\u001b[1mOutput Shape               \u001b[0m\u001b[1m \u001b[0m┃\u001b[1m \u001b[0m\u001b[1m        Param #\u001b[0m\u001b[1m \u001b[0m┃\n",
              "┡━━━━━━━━━━━━━━━━━━━━━━━━━━━━━━━━━━━━━━╇━━━━━━━━━━━━━━━━━━━━━━━━━━━━━╇━━━━━━━━━━━━━━━━━┩\n",
              "│ lstm (\u001b[38;5;33mLSTM\u001b[0m)                          │ (\u001b[38;5;45mNone\u001b[0m, \u001b[38;5;34m100\u001b[0m, \u001b[38;5;34m50\u001b[0m)             │          \u001b[38;5;34m10,400\u001b[0m │\n",
              "├──────────────────────────────────────┼─────────────────────────────┼─────────────────┤\n",
              "│ lstm_1 (\u001b[38;5;33mLSTM\u001b[0m)                        │ (\u001b[38;5;45mNone\u001b[0m, \u001b[38;5;34m100\u001b[0m, \u001b[38;5;34m50\u001b[0m)             │          \u001b[38;5;34m20,200\u001b[0m │\n",
              "├──────────────────────────────────────┼─────────────────────────────┼─────────────────┤\n",
              "│ lstm_2 (\u001b[38;5;33mLSTM\u001b[0m)                        │ (\u001b[38;5;45mNone\u001b[0m, \u001b[38;5;34m50\u001b[0m)                  │          \u001b[38;5;34m20,200\u001b[0m │\n",
              "├──────────────────────────────────────┼─────────────────────────────┼─────────────────┤\n",
              "│ dense (\u001b[38;5;33mDense\u001b[0m)                        │ (\u001b[38;5;45mNone\u001b[0m, \u001b[38;5;34m1\u001b[0m)                   │              \u001b[38;5;34m51\u001b[0m │\n",
              "└──────────────────────────────────────┴─────────────────────────────┴─────────────────┘\n"
            ],
            "text/html": [
              "<pre style=\"white-space:pre;overflow-x:auto;line-height:normal;font-family:Menlo,'DejaVu Sans Mono',consolas,'Courier New',monospace\">┏━━━━━━━━━━━━━━━━━━━━━━━━━━━━━━━━━━━━━━┳━━━━━━━━━━━━━━━━━━━━━━━━━━━━━┳━━━━━━━━━━━━━━━━━┓\n",
              "┃<span style=\"font-weight: bold\"> Layer (type)                         </span>┃<span style=\"font-weight: bold\"> Output Shape                </span>┃<span style=\"font-weight: bold\">         Param # </span>┃\n",
              "┡━━━━━━━━━━━━━━━━━━━━━━━━━━━━━━━━━━━━━━╇━━━━━━━━━━━━━━━━━━━━━━━━━━━━━╇━━━━━━━━━━━━━━━━━┩\n",
              "│ lstm (<span style=\"color: #0087ff; text-decoration-color: #0087ff\">LSTM</span>)                          │ (<span style=\"color: #00d7ff; text-decoration-color: #00d7ff\">None</span>, <span style=\"color: #00af00; text-decoration-color: #00af00\">100</span>, <span style=\"color: #00af00; text-decoration-color: #00af00\">50</span>)             │          <span style=\"color: #00af00; text-decoration-color: #00af00\">10,400</span> │\n",
              "├──────────────────────────────────────┼─────────────────────────────┼─────────────────┤\n",
              "│ lstm_1 (<span style=\"color: #0087ff; text-decoration-color: #0087ff\">LSTM</span>)                        │ (<span style=\"color: #00d7ff; text-decoration-color: #00d7ff\">None</span>, <span style=\"color: #00af00; text-decoration-color: #00af00\">100</span>, <span style=\"color: #00af00; text-decoration-color: #00af00\">50</span>)             │          <span style=\"color: #00af00; text-decoration-color: #00af00\">20,200</span> │\n",
              "├──────────────────────────────────────┼─────────────────────────────┼─────────────────┤\n",
              "│ lstm_2 (<span style=\"color: #0087ff; text-decoration-color: #0087ff\">LSTM</span>)                        │ (<span style=\"color: #00d7ff; text-decoration-color: #00d7ff\">None</span>, <span style=\"color: #00af00; text-decoration-color: #00af00\">50</span>)                  │          <span style=\"color: #00af00; text-decoration-color: #00af00\">20,200</span> │\n",
              "├──────────────────────────────────────┼─────────────────────────────┼─────────────────┤\n",
              "│ dense (<span style=\"color: #0087ff; text-decoration-color: #0087ff\">Dense</span>)                        │ (<span style=\"color: #00d7ff; text-decoration-color: #00d7ff\">None</span>, <span style=\"color: #00af00; text-decoration-color: #00af00\">1</span>)                   │              <span style=\"color: #00af00; text-decoration-color: #00af00\">51</span> │\n",
              "└──────────────────────────────────────┴─────────────────────────────┴─────────────────┘\n",
              "</pre>\n"
            ]
          },
          "metadata": {}
        },
        {
          "output_type": "display_data",
          "data": {
            "text/plain": [
              "\u001b[1m Total params: \u001b[0m\u001b[38;5;34m50,851\u001b[0m (198.64 KB)\n"
            ],
            "text/html": [
              "<pre style=\"white-space:pre;overflow-x:auto;line-height:normal;font-family:Menlo,'DejaVu Sans Mono',consolas,'Courier New',monospace\"><span style=\"font-weight: bold\"> Total params: </span><span style=\"color: #00af00; text-decoration-color: #00af00\">50,851</span> (198.64 KB)\n",
              "</pre>\n"
            ]
          },
          "metadata": {}
        },
        {
          "output_type": "display_data",
          "data": {
            "text/plain": [
              "\u001b[1m Trainable params: \u001b[0m\u001b[38;5;34m50,851\u001b[0m (198.64 KB)\n"
            ],
            "text/html": [
              "<pre style=\"white-space:pre;overflow-x:auto;line-height:normal;font-family:Menlo,'DejaVu Sans Mono',consolas,'Courier New',monospace\"><span style=\"font-weight: bold\"> Trainable params: </span><span style=\"color: #00af00; text-decoration-color: #00af00\">50,851</span> (198.64 KB)\n",
              "</pre>\n"
            ]
          },
          "metadata": {}
        },
        {
          "output_type": "display_data",
          "data": {
            "text/plain": [
              "\u001b[1m Non-trainable params: \u001b[0m\u001b[38;5;34m0\u001b[0m (0.00 B)\n"
            ],
            "text/html": [
              "<pre style=\"white-space:pre;overflow-x:auto;line-height:normal;font-family:Menlo,'DejaVu Sans Mono',consolas,'Courier New',monospace\"><span style=\"font-weight: bold\"> Non-trainable params: </span><span style=\"color: #00af00; text-decoration-color: #00af00\">0</span> (0.00 B)\n",
              "</pre>\n"
            ]
          },
          "metadata": {}
        }
      ]
    },
    {
      "cell_type": "code",
      "source": [
        "model.fit(X_train,y_train,validation_data=(X_test,ytest),epochs=100,batch_size=64,verbose=1)"
      ],
      "metadata": {
        "colab": {
          "base_uri": "https://localhost:8080/"
        },
        "id": "y7LZ1GDNkgTq",
        "outputId": "0d00d520-8eb2-4232-fc84-1365957ad72c"
      },
      "execution_count": 30,
      "outputs": [
        {
          "output_type": "stream",
          "name": "stdout",
          "text": [
            "Epoch 1/100\n",
            "\u001b[1m9/9\u001b[0m \u001b[32m━━━━━━━━━━━━━━━━━━━━\u001b[0m\u001b[37m\u001b[0m \u001b[1m8s\u001b[0m 290ms/step - loss: 0.0539 - val_loss: 0.0032\n",
            "Epoch 2/100\n",
            "\u001b[1m9/9\u001b[0m \u001b[32m━━━━━━━━━━━━━━━━━━━━\u001b[0m\u001b[37m\u001b[0m \u001b[1m5s\u001b[0m 245ms/step - loss: 0.0156 - val_loss: 0.0033\n",
            "Epoch 3/100\n",
            "\u001b[1m9/9\u001b[0m \u001b[32m━━━━━━━━━━━━━━━━━━━━\u001b[0m\u001b[37m\u001b[0m \u001b[1m2s\u001b[0m 196ms/step - loss: 0.0141 - val_loss: 2.6753e-04\n",
            "Epoch 4/100\n",
            "\u001b[1m9/9\u001b[0m \u001b[32m━━━━━━━━━━━━━━━━━━━━\u001b[0m\u001b[37m\u001b[0m \u001b[1m2s\u001b[0m 197ms/step - loss: 0.0161 - val_loss: 2.4214e-04\n",
            "Epoch 5/100\n",
            "\u001b[1m9/9\u001b[0m \u001b[32m━━━━━━━━━━━━━━━━━━━━\u001b[0m\u001b[37m\u001b[0m \u001b[1m3s\u001b[0m 195ms/step - loss: 0.0117 - val_loss: 2.1204e-04\n",
            "Epoch 6/100\n",
            "\u001b[1m9/9\u001b[0m \u001b[32m━━━━━━━━━━━━━━━━━━━━\u001b[0m\u001b[37m\u001b[0m \u001b[1m2s\u001b[0m 199ms/step - loss: 0.0077 - val_loss: 0.0015\n",
            "Epoch 7/100\n",
            "\u001b[1m9/9\u001b[0m \u001b[32m━━━━━━━━━━━━━━━━━━━━\u001b[0m\u001b[37m\u001b[0m \u001b[1m3s\u001b[0m 270ms/step - loss: 0.0099 - val_loss: 0.0012\n",
            "Epoch 8/100\n",
            "\u001b[1m9/9\u001b[0m \u001b[32m━━━━━━━━━━━━━━━━━━━━\u001b[0m\u001b[37m\u001b[0m \u001b[1m2s\u001b[0m 243ms/step - loss: 0.0102 - val_loss: 1.9280e-04\n",
            "Epoch 9/100\n",
            "\u001b[1m9/9\u001b[0m \u001b[32m━━━━━━━━━━━━━━━━━━━━\u001b[0m\u001b[37m\u001b[0m \u001b[1m2s\u001b[0m 194ms/step - loss: 0.0065 - val_loss: 5.3762e-04\n",
            "Epoch 10/100\n",
            "\u001b[1m9/9\u001b[0m \u001b[32m━━━━━━━━━━━━━━━━━━━━\u001b[0m\u001b[37m\u001b[0m \u001b[1m3s\u001b[0m 197ms/step - loss: 0.0099 - val_loss: 0.0026\n",
            "Epoch 11/100\n",
            "\u001b[1m9/9\u001b[0m \u001b[32m━━━━━━━━━━━━━━━━━━━━\u001b[0m\u001b[37m\u001b[0m \u001b[1m3s\u001b[0m 196ms/step - loss: 0.0097 - val_loss: 0.0012\n",
            "Epoch 12/100\n",
            "\u001b[1m9/9\u001b[0m \u001b[32m━━━━━━━━━━━━━━━━━━━━\u001b[0m\u001b[37m\u001b[0m \u001b[1m2s\u001b[0m 198ms/step - loss: 0.0053 - val_loss: 6.7502e-04\n",
            "Epoch 13/100\n",
            "\u001b[1m9/9\u001b[0m \u001b[32m━━━━━━━━━━━━━━━━━━━━\u001b[0m\u001b[37m\u001b[0m \u001b[1m3s\u001b[0m 254ms/step - loss: 0.0044 - val_loss: 5.5056e-04\n",
            "Epoch 14/100\n",
            "\u001b[1m9/9\u001b[0m \u001b[32m━━━━━━━━━━━━━━━━━━━━\u001b[0m\u001b[37m\u001b[0m \u001b[1m2s\u001b[0m 196ms/step - loss: 0.0041 - val_loss: 4.5676e-04\n",
            "Epoch 15/100\n",
            "\u001b[1m9/9\u001b[0m \u001b[32m━━━━━━━━━━━━━━━━━━━━\u001b[0m\u001b[37m\u001b[0m \u001b[1m2s\u001b[0m 190ms/step - loss: 0.0049 - val_loss: 0.0022\n",
            "Epoch 16/100\n",
            "\u001b[1m9/9\u001b[0m \u001b[32m━━━━━━━━━━━━━━━━━━━━\u001b[0m\u001b[37m\u001b[0m \u001b[1m2s\u001b[0m 200ms/step - loss: 0.0067 - val_loss: 2.4095e-04\n",
            "Epoch 17/100\n",
            "\u001b[1m9/9\u001b[0m \u001b[32m━━━━━━━━━━━━━━━━━━━━\u001b[0m\u001b[37m\u001b[0m \u001b[1m2s\u001b[0m 198ms/step - loss: 0.0037 - val_loss: 6.9802e-04\n",
            "Epoch 18/100\n",
            "\u001b[1m9/9\u001b[0m \u001b[32m━━━━━━━━━━━━━━━━━━━━\u001b[0m\u001b[37m\u001b[0m \u001b[1m3s\u001b[0m 253ms/step - loss: 0.0037 - val_loss: 2.5701e-04\n",
            "Epoch 19/100\n",
            "\u001b[1m9/9\u001b[0m \u001b[32m━━━━━━━━━━━━━━━━━━━━\u001b[0m\u001b[37m\u001b[0m \u001b[1m2s\u001b[0m 259ms/step - loss: 0.0033 - val_loss: 9.6246e-04\n",
            "Epoch 20/100\n",
            "\u001b[1m9/9\u001b[0m \u001b[32m━━━━━━━━━━━━━━━━━━━━\u001b[0m\u001b[37m\u001b[0m \u001b[1m2s\u001b[0m 188ms/step - loss: 0.0031 - val_loss: 2.5065e-04\n",
            "Epoch 21/100\n",
            "\u001b[1m9/9\u001b[0m \u001b[32m━━━━━━━━━━━━━━━━━━━━\u001b[0m\u001b[37m\u001b[0m \u001b[1m2s\u001b[0m 185ms/step - loss: 0.0031 - val_loss: 2.7477e-04\n",
            "Epoch 22/100\n",
            "\u001b[1m9/9\u001b[0m \u001b[32m━━━━━━━━━━━━━━━━━━━━\u001b[0m\u001b[37m\u001b[0m \u001b[1m2s\u001b[0m 189ms/step - loss: 0.0043 - val_loss: 4.6430e-04\n",
            "Epoch 23/100\n",
            "\u001b[1m9/9\u001b[0m \u001b[32m━━━━━━━━━━━━━━━━━━━━\u001b[0m\u001b[37m\u001b[0m \u001b[1m2s\u001b[0m 198ms/step - loss: 0.0036 - val_loss: 1.8775e-04\n",
            "Epoch 24/100\n",
            "\u001b[1m9/9\u001b[0m \u001b[32m━━━━━━━━━━━━━━━━━━━━\u001b[0m\u001b[37m\u001b[0m \u001b[1m3s\u001b[0m 198ms/step - loss: 0.0045 - val_loss: 2.2460e-04\n",
            "Epoch 25/100\n",
            "\u001b[1m9/9\u001b[0m \u001b[32m━━━━━━━━━━━━━━━━━━━━\u001b[0m\u001b[37m\u001b[0m \u001b[1m3s\u001b[0m 310ms/step - loss: 0.0049 - val_loss: 2.7537e-04\n",
            "Epoch 26/100\n",
            "\u001b[1m9/9\u001b[0m \u001b[32m━━━━━━━━━━━━━━━━━━━━\u001b[0m\u001b[37m\u001b[0m \u001b[1m4s\u001b[0m 196ms/step - loss: 0.0036 - val_loss: 3.2694e-04\n",
            "Epoch 27/100\n",
            "\u001b[1m9/9\u001b[0m \u001b[32m━━━━━━━━━━━━━━━━━━━━\u001b[0m\u001b[37m\u001b[0m \u001b[1m3s\u001b[0m 296ms/step - loss: 0.0019 - val_loss: 2.0260e-04\n",
            "Epoch 28/100\n",
            "\u001b[1m9/9\u001b[0m \u001b[32m━━━━━━━━━━━━━━━━━━━━\u001b[0m\u001b[37m\u001b[0m \u001b[1m6s\u001b[0m 417ms/step - loss: 0.0027 - val_loss: 5.4321e-04\n",
            "Epoch 29/100\n",
            "\u001b[1m9/9\u001b[0m \u001b[32m━━━━━━━━━━━━━━━━━━━━\u001b[0m\u001b[37m\u001b[0m \u001b[1m2s\u001b[0m 197ms/step - loss: 0.0028 - val_loss: 3.1464e-04\n",
            "Epoch 30/100\n",
            "\u001b[1m9/9\u001b[0m \u001b[32m━━━━━━━━━━━━━━━━━━━━\u001b[0m\u001b[37m\u001b[0m \u001b[1m2s\u001b[0m 197ms/step - loss: 0.0023 - val_loss: 1.6929e-04\n",
            "Epoch 31/100\n",
            "\u001b[1m9/9\u001b[0m \u001b[32m━━━━━━━━━━━━━━━━━━━━\u001b[0m\u001b[37m\u001b[0m \u001b[1m2s\u001b[0m 185ms/step - loss: 0.0018 - val_loss: 2.6574e-04\n",
            "Epoch 32/100\n",
            "\u001b[1m9/9\u001b[0m \u001b[32m━━━━━━━━━━━━━━━━━━━━\u001b[0m\u001b[37m\u001b[0m \u001b[1m2s\u001b[0m 188ms/step - loss: 0.0019 - val_loss: 3.4264e-04\n",
            "Epoch 33/100\n",
            "\u001b[1m9/9\u001b[0m \u001b[32m━━━━━━━━━━━━━━━━━━━━\u001b[0m\u001b[37m\u001b[0m \u001b[1m5s\u001b[0m 440ms/step - loss: 0.0025 - val_loss: 3.9565e-04\n",
            "Epoch 34/100\n",
            "\u001b[1m9/9\u001b[0m \u001b[32m━━━━━━━━━━━━━━━━━━━━\u001b[0m\u001b[37m\u001b[0m \u001b[1m3s\u001b[0m 198ms/step - loss: 0.0018 - val_loss: 2.7245e-04\n",
            "Epoch 35/100\n",
            "\u001b[1m9/9\u001b[0m \u001b[32m━━━━━━━━━━━━━━━━━━━━\u001b[0m\u001b[37m\u001b[0m \u001b[1m3s\u001b[0m 199ms/step - loss: 0.0018 - val_loss: 1.7128e-04\n",
            "Epoch 36/100\n",
            "\u001b[1m9/9\u001b[0m \u001b[32m━━━━━━━━━━━━━━━━━━━━\u001b[0m\u001b[37m\u001b[0m \u001b[1m2s\u001b[0m 189ms/step - loss: 0.0018 - val_loss: 1.7298e-04\n",
            "Epoch 37/100\n",
            "\u001b[1m9/9\u001b[0m \u001b[32m━━━━━━━━━━━━━━━━━━━━\u001b[0m\u001b[37m\u001b[0m \u001b[1m2s\u001b[0m 194ms/step - loss: 0.0013 - val_loss: 1.8308e-04\n",
            "Epoch 38/100\n",
            "\u001b[1m9/9\u001b[0m \u001b[32m━━━━━━━━━━━━━━━━━━━━\u001b[0m\u001b[37m\u001b[0m \u001b[1m3s\u001b[0m 302ms/step - loss: 0.0031 - val_loss: 2.1859e-04\n",
            "Epoch 39/100\n",
            "\u001b[1m9/9\u001b[0m \u001b[32m━━━━━━━━━━━━━━━━━━━━\u001b[0m\u001b[37m\u001b[0m \u001b[1m4s\u001b[0m 223ms/step - loss: 0.0025 - val_loss: 1.9983e-04\n",
            "Epoch 40/100\n",
            "\u001b[1m9/9\u001b[0m \u001b[32m━━━━━━━━━━━━━━━━━━━━\u001b[0m\u001b[37m\u001b[0m \u001b[1m2s\u001b[0m 196ms/step - loss: 0.0021 - val_loss: 1.8148e-04\n",
            "Epoch 41/100\n",
            "\u001b[1m9/9\u001b[0m \u001b[32m━━━━━━━━━━━━━━━━━━━━\u001b[0m\u001b[37m\u001b[0m \u001b[1m2s\u001b[0m 189ms/step - loss: 0.0025 - val_loss: 2.1998e-04\n",
            "Epoch 42/100\n",
            "\u001b[1m9/9\u001b[0m \u001b[32m━━━━━━━━━━━━━━━━━━━━\u001b[0m\u001b[37m\u001b[0m \u001b[1m3s\u001b[0m 287ms/step - loss: 0.0017 - val_loss: 1.7695e-04\n",
            "Epoch 43/100\n",
            "\u001b[1m9/9\u001b[0m \u001b[32m━━━━━━━━━━━━━━━━━━━━\u001b[0m\u001b[37m\u001b[0m \u001b[1m2s\u001b[0m 215ms/step - loss: 0.0019 - val_loss: 1.8409e-04\n",
            "Epoch 44/100\n",
            "\u001b[1m9/9\u001b[0m \u001b[32m━━━━━━━━━━━━━━━━━━━━\u001b[0m\u001b[37m\u001b[0m \u001b[1m3s\u001b[0m 240ms/step - loss: 0.0026 - val_loss: 2.4191e-04\n",
            "Epoch 45/100\n",
            "\u001b[1m9/9\u001b[0m \u001b[32m━━━━━━━━━━━━━━━━━━━━\u001b[0m\u001b[37m\u001b[0m \u001b[1m4s\u001b[0m 363ms/step - loss: 0.0021 - val_loss: 1.7582e-04\n",
            "Epoch 46/100\n",
            "\u001b[1m9/9\u001b[0m \u001b[32m━━━━━━━━━━━━━━━━━━━━\u001b[0m\u001b[37m\u001b[0m \u001b[1m4s\u001b[0m 278ms/step - loss: 0.0016 - val_loss: 2.1720e-04\n",
            "Epoch 47/100\n",
            "\u001b[1m9/9\u001b[0m \u001b[32m━━━━━━━━━━━━━━━━━━━━\u001b[0m\u001b[37m\u001b[0m \u001b[1m2s\u001b[0m 233ms/step - loss: 0.0018 - val_loss: 2.1467e-04\n",
            "Epoch 48/100\n",
            "\u001b[1m9/9\u001b[0m \u001b[32m━━━━━━━━━━━━━━━━━━━━\u001b[0m\u001b[37m\u001b[0m \u001b[1m2s\u001b[0m 199ms/step - loss: 0.0021 - val_loss: 1.7452e-04\n",
            "Epoch 49/100\n",
            "\u001b[1m9/9\u001b[0m \u001b[32m━━━━━━━━━━━━━━━━━━━━\u001b[0m\u001b[37m\u001b[0m \u001b[1m2s\u001b[0m 262ms/step - loss: 0.0026 - val_loss: 1.7654e-04\n",
            "Epoch 50/100\n",
            "\u001b[1m9/9\u001b[0m \u001b[32m━━━━━━━━━━━━━━━━━━━━\u001b[0m\u001b[37m\u001b[0m \u001b[1m2s\u001b[0m 199ms/step - loss: 0.0022 - val_loss: 2.7287e-04\n",
            "Epoch 51/100\n",
            "\u001b[1m9/9\u001b[0m \u001b[32m━━━━━━━━━━━━━━━━━━━━\u001b[0m\u001b[37m\u001b[0m \u001b[1m5s\u001b[0m 599ms/step - loss: 0.0019 - val_loss: 1.7922e-04\n",
            "Epoch 52/100\n",
            "\u001b[1m9/9\u001b[0m \u001b[32m━━━━━━━━━━━━━━━━━━━━\u001b[0m\u001b[37m\u001b[0m \u001b[1m2s\u001b[0m 220ms/step - loss: 0.0015 - val_loss: 1.7486e-04\n",
            "Epoch 53/100\n",
            "\u001b[1m9/9\u001b[0m \u001b[32m━━━━━━━━━━━━━━━━━━━━\u001b[0m\u001b[37m\u001b[0m \u001b[1m2s\u001b[0m 195ms/step - loss: 0.0013 - val_loss: 3.7078e-04\n",
            "Epoch 54/100\n",
            "\u001b[1m9/9\u001b[0m \u001b[32m━━━━━━━━━━━━━━━━━━━━\u001b[0m\u001b[37m\u001b[0m \u001b[1m2s\u001b[0m 194ms/step - loss: 0.0026 - val_loss: 1.6799e-04\n",
            "Epoch 55/100\n",
            "\u001b[1m9/9\u001b[0m \u001b[32m━━━━━━━━━━━━━━━━━━━━\u001b[0m\u001b[37m\u001b[0m \u001b[1m2s\u001b[0m 196ms/step - loss: 0.0014 - val_loss: 2.2434e-04\n",
            "Epoch 56/100\n",
            "\u001b[1m9/9\u001b[0m \u001b[32m━━━━━━━━━━━━━━━━━━━━\u001b[0m\u001b[37m\u001b[0m \u001b[1m3s\u001b[0m 204ms/step - loss: 0.0010 - val_loss: 1.6026e-04\n",
            "Epoch 57/100\n",
            "\u001b[1m9/9\u001b[0m \u001b[32m━━━━━━━━━━━━━━━━━━━━\u001b[0m\u001b[37m\u001b[0m \u001b[1m4s\u001b[0m 339ms/step - loss: 0.0015 - val_loss: 4.2327e-04\n",
            "Epoch 58/100\n",
            "\u001b[1m9/9\u001b[0m \u001b[32m━━━━━━━━━━━━━━━━━━━━\u001b[0m\u001b[37m\u001b[0m \u001b[1m4s\u001b[0m 200ms/step - loss: 0.0015 - val_loss: 1.7048e-04\n",
            "Epoch 59/100\n",
            "\u001b[1m9/9\u001b[0m \u001b[32m━━━━━━━━━━━━━━━━━━━━\u001b[0m\u001b[37m\u001b[0m \u001b[1m2s\u001b[0m 196ms/step - loss: 9.4244e-04 - val_loss: 2.6728e-04\n",
            "Epoch 60/100\n",
            "\u001b[1m9/9\u001b[0m \u001b[32m━━━━━━━━━━━━━━━━━━━━\u001b[0m\u001b[37m\u001b[0m \u001b[1m2s\u001b[0m 197ms/step - loss: 0.0014 - val_loss: 1.7139e-04\n",
            "Epoch 61/100\n",
            "\u001b[1m9/9\u001b[0m \u001b[32m━━━━━━━━━━━━━━━━━━━━\u001b[0m\u001b[37m\u001b[0m \u001b[1m2s\u001b[0m 188ms/step - loss: 0.0011 - val_loss: 3.9745e-04\n",
            "Epoch 62/100\n",
            "\u001b[1m9/9\u001b[0m \u001b[32m━━━━━━━━━━━━━━━━━━━━\u001b[0m\u001b[37m\u001b[0m \u001b[1m3s\u001b[0m 320ms/step - loss: 0.0018 - val_loss: 1.9229e-04\n",
            "Epoch 63/100\n",
            "\u001b[1m9/9\u001b[0m \u001b[32m━━━━━━━━━━━━━━━━━━━━\u001b[0m\u001b[37m\u001b[0m \u001b[1m4s\u001b[0m 228ms/step - loss: 0.0016 - val_loss: 1.6713e-04\n",
            "Epoch 64/100\n",
            "\u001b[1m9/9\u001b[0m \u001b[32m━━━━━━━━━━━━━━━━━━━━\u001b[0m\u001b[37m\u001b[0m \u001b[1m2s\u001b[0m 198ms/step - loss: 0.0024 - val_loss: 0.0011\n",
            "Epoch 65/100\n",
            "\u001b[1m9/9\u001b[0m \u001b[32m━━━━━━━━━━━━━━━━━━━━\u001b[0m\u001b[37m\u001b[0m \u001b[1m2s\u001b[0m 232ms/step - loss: 0.0038 - val_loss: 1.7803e-04\n",
            "Epoch 66/100\n",
            "\u001b[1m9/9\u001b[0m \u001b[32m━━━━━━━━━━━━━━━━━━━━\u001b[0m\u001b[37m\u001b[0m \u001b[1m2s\u001b[0m 236ms/step - loss: 0.0029 - val_loss: 3.2390e-04\n",
            "Epoch 67/100\n",
            "\u001b[1m9/9\u001b[0m \u001b[32m━━━━━━━━━━━━━━━━━━━━\u001b[0m\u001b[37m\u001b[0m \u001b[1m4s\u001b[0m 343ms/step - loss: 0.0030 - val_loss: 2.0938e-04\n",
            "Epoch 68/100\n",
            "\u001b[1m9/9\u001b[0m \u001b[32m━━━━━━━━━━━━━━━━━━━━\u001b[0m\u001b[37m\u001b[0m \u001b[1m3s\u001b[0m 323ms/step - loss: 0.0027 - val_loss: 1.6664e-04\n",
            "Epoch 69/100\n",
            "\u001b[1m9/9\u001b[0m \u001b[32m━━━━━━━━━━━━━━━━━━━━\u001b[0m\u001b[37m\u001b[0m \u001b[1m4s\u001b[0m 186ms/step - loss: 0.0016 - val_loss: 3.0712e-04\n",
            "Epoch 70/100\n",
            "\u001b[1m9/9\u001b[0m \u001b[32m━━━━━━━━━━━━━━━━━━━━\u001b[0m\u001b[37m\u001b[0m \u001b[1m3s\u001b[0m 319ms/step - loss: 0.0016 - val_loss: 1.5092e-04\n",
            "Epoch 71/100\n",
            "\u001b[1m9/9\u001b[0m \u001b[32m━━━━━━━━━━━━━━━━━━━━\u001b[0m\u001b[37m\u001b[0m \u001b[1m2s\u001b[0m 205ms/step - loss: 0.0015 - val_loss: 3.1924e-04\n",
            "Epoch 72/100\n",
            "\u001b[1m9/9\u001b[0m \u001b[32m━━━━━━━━━━━━━━━━━━━━\u001b[0m\u001b[37m\u001b[0m \u001b[1m2s\u001b[0m 190ms/step - loss: 0.0016 - val_loss: 1.7023e-04\n",
            "Epoch 73/100\n",
            "\u001b[1m9/9\u001b[0m \u001b[32m━━━━━━━━━━━━━━━━━━━━\u001b[0m\u001b[37m\u001b[0m \u001b[1m3s\u001b[0m 196ms/step - loss: 0.0014 - val_loss: 3.1063e-04\n",
            "Epoch 74/100\n",
            "\u001b[1m9/9\u001b[0m \u001b[32m━━━━━━━━━━━━━━━━━━━━\u001b[0m\u001b[37m\u001b[0m \u001b[1m2s\u001b[0m 197ms/step - loss: 0.0014 - val_loss: 2.0340e-04\n",
            "Epoch 75/100\n",
            "\u001b[1m9/9\u001b[0m \u001b[32m━━━━━━━━━━━━━━━━━━━━\u001b[0m\u001b[37m\u001b[0m \u001b[1m3s\u001b[0m 272ms/step - loss: 0.0034 - val_loss: 1.8792e-04\n",
            "Epoch 76/100\n",
            "\u001b[1m9/9\u001b[0m \u001b[32m━━━━━━━━━━━━━━━━━━━━\u001b[0m\u001b[37m\u001b[0m \u001b[1m2s\u001b[0m 252ms/step - loss: 0.0016 - val_loss: 2.4319e-04\n",
            "Epoch 77/100\n",
            "\u001b[1m9/9\u001b[0m \u001b[32m━━━━━━━━━━━━━━━━━━━━\u001b[0m\u001b[37m\u001b[0m \u001b[1m2s\u001b[0m 197ms/step - loss: 0.0022 - val_loss: 1.5405e-04\n",
            "Epoch 78/100\n",
            "\u001b[1m9/9\u001b[0m \u001b[32m━━━━━━━━━━━━━━━━━━━━\u001b[0m\u001b[37m\u001b[0m \u001b[1m2s\u001b[0m 191ms/step - loss: 0.0030 - val_loss: 3.2661e-04\n",
            "Epoch 79/100\n",
            "\u001b[1m9/9\u001b[0m \u001b[32m━━━━━━━━━━━━━━━━━━━━\u001b[0m\u001b[37m\u001b[0m \u001b[1m2s\u001b[0m 198ms/step - loss: 0.0018 - val_loss: 1.7546e-04\n",
            "Epoch 80/100\n",
            "\u001b[1m9/9\u001b[0m \u001b[32m━━━━━━━━━━━━━━━━━━━━\u001b[0m\u001b[37m\u001b[0m \u001b[1m4s\u001b[0m 388ms/step - loss: 0.0011 - val_loss: 3.5006e-04\n",
            "Epoch 81/100\n",
            "\u001b[1m9/9\u001b[0m \u001b[32m━━━━━━━━━━━━━━━━━━━━\u001b[0m\u001b[37m\u001b[0m \u001b[1m3s\u001b[0m 187ms/step - loss: 0.0011 - val_loss: 1.7992e-04\n",
            "Epoch 82/100\n",
            "\u001b[1m9/9\u001b[0m \u001b[32m━━━━━━━━━━━━━━━━━━━━\u001b[0m\u001b[37m\u001b[0m \u001b[1m2s\u001b[0m 200ms/step - loss: 7.3567e-04 - val_loss: 3.3105e-04\n",
            "Epoch 83/100\n",
            "\u001b[1m9/9\u001b[0m \u001b[32m━━━━━━━━━━━━━━━━━━━━\u001b[0m\u001b[37m\u001b[0m \u001b[1m2s\u001b[0m 192ms/step - loss: 0.0012 - val_loss: 3.0560e-04\n",
            "Epoch 84/100\n",
            "\u001b[1m9/9\u001b[0m \u001b[32m━━━━━━━━━━━━━━━━━━━━\u001b[0m\u001b[37m\u001b[0m \u001b[1m3s\u001b[0m 192ms/step - loss: 0.0013 - val_loss: 3.2510e-04\n",
            "Epoch 85/100\n",
            "\u001b[1m9/9\u001b[0m \u001b[32m━━━━━━━━━━━━━━━━━━━━\u001b[0m\u001b[37m\u001b[0m \u001b[1m3s\u001b[0m 286ms/step - loss: 7.5662e-04 - val_loss: 2.0117e-04\n",
            "Epoch 86/100\n",
            "\u001b[1m9/9\u001b[0m \u001b[32m━━━━━━━━━━━━━━━━━━━━\u001b[0m\u001b[37m\u001b[0m \u001b[1m3s\u001b[0m 357ms/step - loss: 8.9515e-04 - val_loss: 3.3895e-04\n",
            "Epoch 87/100\n",
            "\u001b[1m9/9\u001b[0m \u001b[32m━━━━━━━━━━━━━━━━━━━━\u001b[0m\u001b[37m\u001b[0m \u001b[1m4s\u001b[0m 197ms/step - loss: 5.2950e-04 - val_loss: 3.0210e-04\n",
            "Epoch 88/100\n",
            "\u001b[1m9/9\u001b[0m \u001b[32m━━━━━━━━━━━━━━━━━━━━\u001b[0m\u001b[37m\u001b[0m \u001b[1m3s\u001b[0m 194ms/step - loss: 7.2577e-04 - val_loss: 1.7230e-04\n",
            "Epoch 89/100\n",
            "\u001b[1m9/9\u001b[0m \u001b[32m━━━━━━━━━━━━━━━━━━━━\u001b[0m\u001b[37m\u001b[0m \u001b[1m3s\u001b[0m 261ms/step - loss: 0.0017 - val_loss: 2.3550e-04\n",
            "Epoch 90/100\n",
            "\u001b[1m9/9\u001b[0m \u001b[32m━━━━━━━━━━━━━━━━━━━━\u001b[0m\u001b[37m\u001b[0m \u001b[1m3s\u001b[0m 394ms/step - loss: 0.0033 - val_loss: 1.8133e-04\n",
            "Epoch 91/100\n",
            "\u001b[1m9/9\u001b[0m \u001b[32m━━━━━━━━━━━━━━━━━━━━\u001b[0m\u001b[37m\u001b[0m \u001b[1m4s\u001b[0m 313ms/step - loss: 0.0044 - val_loss: 1.9070e-04\n",
            "Epoch 92/100\n",
            "\u001b[1m9/9\u001b[0m \u001b[32m━━━━━━━━━━━━━━━━━━━━\u001b[0m\u001b[37m\u001b[0m \u001b[1m5s\u001b[0m 250ms/step - loss: 0.0029 - val_loss: 3.0737e-04\n",
            "Epoch 93/100\n",
            "\u001b[1m9/9\u001b[0m \u001b[32m━━━━━━━━━━━━━━━━━━━━\u001b[0m\u001b[37m\u001b[0m \u001b[1m3s\u001b[0m 374ms/step - loss: 0.0013 - val_loss: 1.6090e-04\n",
            "Epoch 94/100\n",
            "\u001b[1m9/9\u001b[0m \u001b[32m━━━━━━━━━━━━━━━━━━━━\u001b[0m\u001b[37m\u001b[0m \u001b[1m4s\u001b[0m 206ms/step - loss: 0.0013 - val_loss: 3.9914e-04\n",
            "Epoch 95/100\n",
            "\u001b[1m9/9\u001b[0m \u001b[32m━━━━━━━━━━━━━━━━━━━━\u001b[0m\u001b[37m\u001b[0m \u001b[1m2s\u001b[0m 209ms/step - loss: 0.0012 - val_loss: 1.8040e-04\n",
            "Epoch 96/100\n",
            "\u001b[1m9/9\u001b[0m \u001b[32m━━━━━━━━━━━━━━━━━━━━\u001b[0m\u001b[37m\u001b[0m \u001b[1m2s\u001b[0m 200ms/step - loss: 0.0024 - val_loss: 4.0651e-04\n",
            "Epoch 97/100\n",
            "\u001b[1m9/9\u001b[0m \u001b[32m━━━━━━━━━━━━━━━━━━━━\u001b[0m\u001b[37m\u001b[0m \u001b[1m4s\u001b[0m 325ms/step - loss: 7.8178e-04 - val_loss: 1.6155e-04\n",
            "Epoch 98/100\n",
            "\u001b[1m9/9\u001b[0m \u001b[32m━━━━━━━━━━━━━━━━━━━━\u001b[0m\u001b[37m\u001b[0m \u001b[1m2s\u001b[0m 199ms/step - loss: 0.0014 - val_loss: 6.3276e-04\n",
            "Epoch 99/100\n",
            "\u001b[1m9/9\u001b[0m \u001b[32m━━━━━━━━━━━━━━━━━━━━\u001b[0m\u001b[37m\u001b[0m \u001b[1m2s\u001b[0m 200ms/step - loss: 0.0066 - val_loss: 2.5767e-04\n",
            "Epoch 100/100\n",
            "\u001b[1m9/9\u001b[0m \u001b[32m━━━━━━━━━━━━━━━━━━━━\u001b[0m\u001b[37m\u001b[0m \u001b[1m2s\u001b[0m 200ms/step - loss: 0.0052 - val_loss: 0.0012\n"
          ]
        },
        {
          "output_type": "execute_result",
          "data": {
            "text/plain": [
              "<keras.src.callbacks.history.History at 0x785a7f32fb10>"
            ]
          },
          "metadata": {},
          "execution_count": 30
        }
      ]
    },
    {
      "cell_type": "code",
      "source": [
        "train_predict=model.predict(X_train)\n",
        "test_predict=model.predict(X_test)\n",
        "#Transformback to original form\n",
        "train_predict=scaler.inverse_transform(train_predict)\n",
        "test_predict=scaler.inverse_transform(test_predict)\n",
        "#Calculate RMSE performance metrics\n",
        "import math\n",
        "from sklearn.metrics import mean_squared_error\n",
        "math.sqrt(mean_squared_error(y_train,train_predict))\n"
      ],
      "metadata": {
        "colab": {
          "base_uri": "https://localhost:8080/"
        },
        "id": "u1djVemXknv8",
        "outputId": "dbd827ef-9819-40eb-d58f-117d4aba1fb3"
      },
      "execution_count": 31,
      "outputs": [
        {
          "output_type": "stream",
          "name": "stdout",
          "text": [
            "\u001b[1m18/18\u001b[0m \u001b[32m━━━━━━━━━━━━━━━━━━━━\u001b[0m\u001b[37m\u001b[0m \u001b[1m2s\u001b[0m 66ms/step\n",
            "\u001b[1m8/8\u001b[0m \u001b[32m━━━━━━━━━━━━━━━━━━━━\u001b[0m\u001b[37m\u001b[0m \u001b[1m0s\u001b[0m 38ms/step\n"
          ]
        },
        {
          "output_type": "execute_result",
          "data": {
            "text/plain": [
              "0.0686669079220559"
            ]
          },
          "metadata": {},
          "execution_count": 31
        }
      ]
    },
    {
      "cell_type": "code",
      "source": [
        "# Test Data RMSE\n",
        "math.sqrt(mean_squared_error(ytest,test_predict))"
      ],
      "metadata": {
        "colab": {
          "base_uri": "https://localhost:8080/"
        },
        "id": "EtzSq6SDlEhM",
        "outputId": "ec361fef-bc15-4994-d936-5db3551f9598"
      },
      "execution_count": 32,
      "outputs": [
        {
          "output_type": "execute_result",
          "data": {
            "text/plain": [
              "0.03493229312340963"
            ]
          },
          "metadata": {},
          "execution_count": 32
        }
      ]
    },
    {
      "cell_type": "code",
      "source": [
        "# shift train predictions for plotting\n",
        "look_back=100\n",
        "trainPredictPlot = numpy.empty_like(df1)\n",
        "trainPredictPlot[:, :] = np.nan\n",
        "trainPredictPlot[look_back:len(train_predict)+look_back, :] = train_predict\n",
        "# shift test predictions for plotting\n",
        "testPredictPlot = numpy.empty_like(df1)\n",
        "testPredictPlot[:, :] = numpy.nan\n",
        "testPredictPlot[len(train_predict)+(look_back*2)+1:len(df1)-1, :] = test_predict\n",
        "# plot baseline and predictions\n",
        "plt.plot(scaler.inverse_transform(df1))\n",
        "plt.plot(trainPredictPlot)\n",
        "plt.plot(testPredictPlot)\n",
        "plt.show()\n"
      ],
      "metadata": {
        "colab": {
          "base_uri": "https://localhost:8080/",
          "height": 430
        },
        "id": "K920mtzvlItD",
        "outputId": "199cbca9-0aa9-4825-c47c-3eb4cddd0781"
      },
      "execution_count": 33,
      "outputs": [
        {
          "output_type": "display_data",
          "data": {
            "text/plain": [
              "<Figure size 640x480 with 1 Axes>"
            ],
            "image/png": "[encoded data removed]"
          },
          "metadata": {}
        }
      ]
    },
    {
      "cell_type": "code",
      "source": [
        "len(test_data)"
      ],
      "metadata": {
        "colab": {
          "base_uri": "https://localhost:8080/"
        },
        "id": "urNUukxZlMjw",
        "outputId": "08250843-52d6-4d8d-f03d-38cf41efa8a6"
      },
      "execution_count": 34,
      "outputs": [
        {
          "output_type": "execute_result",
          "data": {
            "text/plain": [
              "353"
            ]
          },
          "metadata": {},
          "execution_count": 34
        }
      ]
    },
    {
      "cell_type": "code",
      "source": [
        "x_input=test_data[253:].reshape(1,-1)\n",
        "x_input.shape"
      ],
      "metadata": {
        "colab": {
          "base_uri": "https://localhost:8080/"
        },
        "id": "KueX7ehvlTW2",
        "outputId": "602145c2-f33d-4b52-b184-4997226956af"
      },
      "execution_count": 35,
      "outputs": [
        {
          "output_type": "execute_result",
          "data": {
            "text/plain": [
              "(1, 100)"
            ]
          },
          "metadata": {},
          "execution_count": 35
        }
      ]
    },
    {
      "cell_type": "code",
      "source": [
        "temp_input=list(x_input)\n",
        "temp_input=temp_input[0].tolist()"
      ],
      "metadata": {
        "id": "qVqPKbBmlbNo"
      },
      "execution_count": 36,
      "outputs": []
    },
    {
      "cell_type": "code",
      "source": [
        "# demonstrate prediction for next 10 days\n",
        "from numpy import array\n",
        "\n",
        "lst_output=[]\n",
        "n_steps=100\n",
        "i=0\n",
        "while(i<30):\n",
        "\n",
        "    if(len(temp_input)>100):\n",
        "        #print(temp_input)\n",
        "        x_input=np.array(temp_input[1:])\n",
        "        print(\"{} day input {}\".format(i,x_input))\n",
        "        x_input=x_input.reshape(1,-1)\n",
        "        x_input = x_input.reshape((1, n_steps, 1))\n",
        "        #print(x_input)\n",
        "        yhat = model.predict(x_input, verbose=0)\n",
        "        print(\"{} day output {}\".format(i,yhat))\n",
        "        temp_input.extend(yhat[0].tolist())\n",
        "        temp_input=temp_input[1:]\n",
        "        #print(temp_input)\n",
        "        lst_output.extend(yhat.tolist())\n",
        "        i=i+1\n",
        "    else:\n",
        "        x_input = x_input.reshape((1, n_steps,1))\n",
        "        yhat = model.predict(x_input, verbose=0)\n",
        "        print(yhat[0])\n",
        "        temp_input.extend(yhat[0].tolist())\n",
        "        print(len(temp_input))\n",
        "        lst_output.extend(yhat.tolist())\n",
        "        i=i+1\n",
        "\n",
        "\n",
        "print(lst_output)"
      ],
      "metadata": {
        "colab": {
          "base_uri": "https://localhost:8080/"
        },
        "id": "dFSKo9TClfFU",
        "outputId": "92fe0479-ac54-419e-ab08-feae2a9aaa96"
      },
      "execution_count": 37,
      "outputs": [
        {
          "output_type": "stream",
          "name": "stdout",
          "text": [
            "[0.19606012]\n",
            "101\n",
            "1 day input [0.17815905 0.1777082  0.18189105 0.17685661 0.17465247 0.1682154\n",
            " 0.16944271 0.17282405 0.17630557 0.18604884 0.17417658 0.17976205\n",
            " 0.18371947 0.19356293 0.20240451 0.20295554 0.20693801 0.20753914\n",
            " 0.19053225 0.17713212 0.17868503 0.18164058 0.17397621 0.16874139\n",
            " 0.17257358 0.17074515 0.17815905 0.18091421 0.1719474  0.16804008\n",
            " 0.17019411 0.17342517 0.16310582 0.15927364 0.15992486 0.1612273\n",
            " 0.16758923 0.16420789 0.16736381 0.17049468 0.17695679 0.18071384\n",
            " 0.17921102 0.18274264 0.18502192 0.18036318 0.18003757 0.1761052\n",
            " 0.17282405 0.17187226 0.16541014 0.16571071 0.16681277 0.16095178\n",
            " 0.15040701 0.15373826 0.15892298 0.16012523 0.16814026 0.17715717\n",
            " 0.17485285 0.18131497 0.18780213 0.19048215 0.1892799  0.19927364\n",
            " 0.19526612 0.20187852 0.2033062  0.20756418 0.20751409 0.21192235\n",
            " 0.20989355 0.2115717  0.2082154  0.20776456 0.20929242 0.20671259\n",
            " 0.20816531 0.21139637 0.20686287 0.21685661 0.21410144 0.2189856\n",
            " 0.22259236 0.21625548 0.22008766 0.22822793 0.22860363 0.2272511\n",
            " 0.22304321 0.22567314 0.22038823 0.22001252 0.21730745 0.21592987\n",
            " 0.21618034 0.21725736 0.21462743 0.19606012]\n",
            "1 day output [[0.19427854]]\n",
            "2 day input [0.1777082  0.18189105 0.17685661 0.17465247 0.1682154  0.16944271\n",
            " 0.17282405 0.17630557 0.18604884 0.17417658 0.17976205 0.18371947\n",
            " 0.19356293 0.20240451 0.20295554 0.20693801 0.20753914 0.19053225\n",
            " 0.17713212 0.17868503 0.18164058 0.17397621 0.16874139 0.17257358\n",
            " 0.17074515 0.17815905 0.18091421 0.1719474  0.16804008 0.17019411\n",
            " 0.17342517 0.16310582 0.15927364 0.15992486 0.1612273  0.16758923\n",
            " 0.16420789 0.16736381 0.17049468 0.17695679 0.18071384 0.17921102\n",
            " 0.18274264 0.18502192 0.18036318 0.18003757 0.1761052  0.17282405\n",
            " 0.17187226 0.16541014 0.16571071 0.16681277 0.16095178 0.15040701\n",
            " 0.15373826 0.15892298 0.16012523 0.16814026 0.17715717 0.17485285\n",
            " 0.18131497 0.18780213 0.19048215 0.1892799  0.19927364 0.19526612\n",
            " 0.20187852 0.2033062  0.20756418 0.20751409 0.21192235 0.20989355\n",
            " 0.2115717  0.2082154  0.20776456 0.20929242 0.20671259 0.20816531\n",
            " 0.21139637 0.20686287 0.21685661 0.21410144 0.2189856  0.22259236\n",
            " 0.21625548 0.22008766 0.22822793 0.22860363 0.2272511  0.22304321\n",
            " 0.22567314 0.22038823 0.22001252 0.21730745 0.21592987 0.21618034\n",
            " 0.21725736 0.21462743 0.19606012 0.19427854]\n",
            "2 day output [[0.1917673]]\n",
            "3 day input [0.18189105 0.17685661 0.17465247 0.1682154  0.16944271 0.17282405\n",
            " 0.17630557 0.18604884 0.17417658 0.17976205 0.18371947 0.19356293\n",
            " 0.20240451 0.20295554 0.20693801 0.20753914 0.19053225 0.17713212\n",
            " 0.17868503 0.18164058 0.17397621 0.16874139 0.17257358 0.17074515\n",
            " 0.17815905 0.18091421 0.1719474  0.16804008 0.17019411 0.17342517\n",
            " 0.16310582 0.15927364 0.15992486 0.1612273  0.16758923 0.16420789\n",
            " 0.16736381 0.17049468 0.17695679 0.18071384 0.17921102 0.18274264\n",
            " 0.18502192 0.18036318 0.18003757 0.1761052  0.17282405 0.17187226\n",
            " 0.16541014 0.16571071 0.16681277 0.16095178 0.15040701 0.15373826\n",
            " 0.15892298 0.16012523 0.16814026 0.17715717 0.17485285 0.18131497\n",
            " 0.18780213 0.19048215 0.1892799  0.19927364 0.19526612 0.20187852\n",
            " 0.2033062  0.20756418 0.20751409 0.21192235 0.20989355 0.2115717\n",
            " 0.2082154  0.20776456 0.20929242 0.20671259 0.20816531 0.21139637\n",
            " 0.20686287 0.21685661 0.21410144 0.2189856  0.22259236 0.21625548\n",
            " 0.22008766 0.22822793 0.22860363 0.2272511  0.22304321 0.22567314\n",
            " 0.22038823 0.22001252 0.21730745 0.21592987 0.21618034 0.21725736\n",
            " 0.21462743 0.19606012 0.19427854 0.19176731]\n",
            "3 day output [[0.18863812]]\n",
            "4 day input [0.17685661 0.17465247 0.1682154  0.16944271 0.17282405 0.17630557\n",
            " 0.18604884 0.17417658 0.17976205 0.18371947 0.19356293 0.20240451\n",
            " 0.20295554 0.20693801 0.20753914 0.19053225 0.17713212 0.17868503\n",
            " 0.18164058 0.17397621 0.16874139 0.17257358 0.17074515 0.17815905\n",
            " 0.18091421 0.1719474  0.16804008 0.17019411 0.17342517 0.16310582\n",
            " 0.15927364 0.15992486 0.1612273  0.16758923 0.16420789 0.16736381\n",
            " 0.17049468 0.17695679 0.18071384 0.17921102 0.18274264 0.18502192\n",
            " 0.18036318 0.18003757 0.1761052  0.17282405 0.17187226 0.16541014\n",
            " 0.16571071 0.16681277 0.16095178 0.15040701 0.15373826 0.15892298\n",
            " 0.16012523 0.16814026 0.17715717 0.17485285 0.18131497 0.18780213\n",
            " 0.19048215 0.1892799  0.19927364 0.19526612 0.20187852 0.2033062\n",
            " 0.20756418 0.20751409 0.21192235 0.20989355 0.2115717  0.2082154\n",
            " 0.20776456 0.20929242 0.20671259 0.20816531 0.21139637 0.20686287\n",
            " 0.21685661 0.21410144 0.2189856  0.22259236 0.21625548 0.22008766\n",
            " 0.22822793 0.22860363 0.2272511  0.22304321 0.22567314 0.22038823\n",
            " 0.22001252 0.21730745 0.21592987 0.21618034 0.21725736 0.21462743\n",
            " 0.19606012 0.19427854 0.19176731 0.18863812]\n",
            "4 day output [[0.18504545]]\n",
            "5 day input [0.17465247 0.1682154  0.16944271 0.17282405 0.17630557 0.18604884\n",
            " 0.17417658 0.17976205 0.18371947 0.19356293 0.20240451 0.20295554\n",
            " 0.20693801 0.20753914 0.19053225 0.17713212 0.17868503 0.18164058\n",
            " 0.17397621 0.16874139 0.17257358 0.17074515 0.17815905 0.18091421\n",
            " 0.1719474  0.16804008 0.17019411 0.17342517 0.16310582 0.15927364\n",
            " 0.15992486 0.1612273  0.16758923 0.16420789 0.16736381 0.17049468\n",
            " 0.17695679 0.18071384 0.17921102 0.18274264 0.18502192 0.18036318\n",
            " 0.18003757 0.1761052  0.17282405 0.17187226 0.16541014 0.16571071\n",
            " 0.16681277 0.16095178 0.15040701 0.15373826 0.15892298 0.16012523\n",
            " 0.16814026 0.17715717 0.17485285 0.18131497 0.18780213 0.19048215\n",
            " 0.1892799  0.19927364 0.19526612 0.20187852 0.2033062  0.20756418\n",
            " 0.20751409 0.21192235 0.20989355 0.2115717  0.2082154  0.20776456\n",
            " 0.20929242 0.20671259 0.20816531 0.21139637 0.20686287 0.21685661\n",
            " 0.21410144 0.2189856  0.22259236 0.21625548 0.22008766 0.22822793\n",
            " 0.22860363 0.2272511  0.22304321 0.22567314 0.22038823 0.22001252\n",
            " 0.21730745 0.21592987 0.21618034 0.21725736 0.21462743 0.19606012\n",
            " 0.19427854 0.19176731 0.18863812 0.18504545]\n",
            "5 day output [[0.18113384]]\n",
            "6 day input [0.1682154  0.16944271 0.17282405 0.17630557 0.18604884 0.17417658\n",
            " 0.17976205 0.18371947 0.19356293 0.20240451 0.20295554 0.20693801\n",
            " 0.20753914 0.19053225 0.17713212 0.17868503 0.18164058 0.17397621\n",
            " 0.16874139 0.17257358 0.17074515 0.17815905 0.18091421 0.1719474\n",
            " 0.16804008 0.17019411 0.17342517 0.16310582 0.15927364 0.15992486\n",
            " 0.1612273  0.16758923 0.16420789 0.16736381 0.17049468 0.17695679\n",
            " 0.18071384 0.17921102 0.18274264 0.18502192 0.18036318 0.18003757\n",
            " 0.1761052  0.17282405 0.17187226 0.16541014 0.16571071 0.16681277\n",
            " 0.16095178 0.15040701 0.15373826 0.15892298 0.16012523 0.16814026\n",
            " 0.17715717 0.17485285 0.18131497 0.18780213 0.19048215 0.1892799\n",
            " 0.19927364 0.19526612 0.20187852 0.2033062  0.20756418 0.20751409\n",
            " 0.21192235 0.20989355 0.2115717  0.2082154  0.20776456 0.20929242\n",
            " 0.20671259 0.20816531 0.21139637 0.20686287 0.21685661 0.21410144\n",
            " 0.2189856  0.22259236 0.21625548 0.22008766 0.22822793 0.22860363\n",
            " 0.2272511  0.22304321 0.22567314 0.22038823 0.22001252 0.21730745\n",
            " 0.21592987 0.21618034 0.21725736 0.21462743 0.19606012 0.19427854\n",
            " 0.19176731 0.18863812 0.18504545 0.18113384]\n",
            "6 day output [[0.17701924]]\n",
            "7 day input [0.16944271 0.17282405 0.17630557 0.18604884 0.17417658 0.17976205\n",
            " 0.18371947 0.19356293 0.20240451 0.20295554 0.20693801 0.20753914\n",
            " 0.19053225 0.17713212 0.17868503 0.18164058 0.17397621 0.16874139\n",
            " 0.17257358 0.17074515 0.17815905 0.18091421 0.1719474  0.16804008\n",
            " 0.17019411 0.17342517 0.16310582 0.15927364 0.15992486 0.1612273\n",
            " 0.16758923 0.16420789 0.16736381 0.17049468 0.17695679 0.18071384\n",
            " 0.17921102 0.18274264 0.18502192 0.18036318 0.18003757 0.1761052\n",
            " 0.17282405 0.17187226 0.16541014 0.16571071 0.16681277 0.16095178\n",
            " 0.15040701 0.15373826 0.15892298 0.16012523 0.16814026 0.17715717\n",
            " 0.17485285 0.18131497 0.18780213 0.19048215 0.1892799  0.19927364\n",
            " 0.19526612 0.20187852 0.2033062  0.20756418 0.20751409 0.21192235\n",
            " 0.20989355 0.2115717  0.2082154  0.20776456 0.20929242 0.20671259\n",
            " 0.20816531 0.21139637 0.20686287 0.21685661 0.21410144 0.2189856\n",
            " 0.22259236 0.21625548 0.22008766 0.22822793 0.22860363 0.2272511\n",
            " 0.22304321 0.22567314 0.22038823 0.22001252 0.21730745 0.21592987\n",
            " 0.21618034 0.21725736 0.21462743 0.19606012 0.19427854 0.19176731\n",
            " 0.18863812 0.18504545 0.18113384 0.17701924]\n",
            "7 day output [[0.17278618]]\n",
            "8 day input [0.17282405 0.17630557 0.18604884 0.17417658 0.17976205 0.18371947\n",
            " 0.19356293 0.20240451 0.20295554 0.20693801 0.20753914 0.19053225\n",
            " 0.17713212 0.17868503 0.18164058 0.17397621 0.16874139 0.17257358\n",
            " 0.17074515 0.17815905 0.18091421 0.1719474  0.16804008 0.17019411\n",
            " 0.17342517 0.16310582 0.15927364 0.15992486 0.1612273  0.16758923\n",
            " 0.16420789 0.16736381 0.17049468 0.17695679 0.18071384 0.17921102\n",
            " 0.18274264 0.18502192 0.18036318 0.18003757 0.1761052  0.17282405\n",
            " 0.17187226 0.16541014 0.16571071 0.16681277 0.16095178 0.15040701\n",
            " 0.15373826 0.15892298 0.16012523 0.16814026 0.17715717 0.17485285\n",
            " 0.18131497 0.18780213 0.19048215 0.1892799  0.19927364 0.19526612\n",
            " 0.20187852 0.2033062  0.20756418 0.20751409 0.21192235 0.20989355\n",
            " 0.2115717  0.2082154  0.20776456 0.20929242 0.20671259 0.20816531\n",
            " 0.21139637 0.20686287 0.21685661 0.21410144 0.2189856  0.22259236\n",
            " 0.21625548 0.22008766 0.22822793 0.22860363 0.2272511  0.22304321\n",
            " 0.22567314 0.22038823 0.22001252 0.21730745 0.21592987 0.21618034\n",
            " 0.21725736 0.21462743 0.19606012 0.19427854 0.19176731 0.18863812\n",
            " 0.18504545 0.18113384 0.17701924 0.17278618]\n",
            "8 day output [[0.16849211]]\n",
            "9 day input [0.17630557 0.18604884 0.17417658 0.17976205 0.18371947 0.19356293\n",
            " 0.20240451 0.20295554 0.20693801 0.20753914 0.19053225 0.17713212\n",
            " 0.17868503 0.18164058 0.17397621 0.16874139 0.17257358 0.17074515\n",
            " 0.17815905 0.18091421 0.1719474  0.16804008 0.17019411 0.17342517\n",
            " 0.16310582 0.15927364 0.15992486 0.1612273  0.16758923 0.16420789\n",
            " 0.16736381 0.17049468 0.17695679 0.18071384 0.17921102 0.18274264\n",
            " 0.18502192 0.18036318 0.18003757 0.1761052  0.17282405 0.17187226\n",
            " 0.16541014 0.16571071 0.16681277 0.16095178 0.15040701 0.15373826\n",
            " 0.15892298 0.16012523 0.16814026 0.17715717 0.17485285 0.18131497\n",
            " 0.18780213 0.19048215 0.1892799  0.19927364 0.19526612 0.20187852\n",
            " 0.2033062  0.20756418 0.20751409 0.21192235 0.20989355 0.2115717\n",
            " 0.2082154  0.20776456 0.20929242 0.20671259 0.20816531 0.21139637\n",
            " 0.20686287 0.21685661 0.21410144 0.2189856  0.22259236 0.21625548\n",
            " 0.22008766 0.22822793 0.22860363 0.2272511  0.22304321 0.22567314\n",
            " 0.22038823 0.22001252 0.21730745 0.21592987 0.21618034 0.21725736\n",
            " 0.21462743 0.19606012 0.19427854 0.19176731 0.18863812 0.18504545\n",
            " 0.18113384 0.17701924 0.17278618 0.16849211]\n",
            "9 day output [[0.16417316]]\n",
            "10 day input [0.18604884 0.17417658 0.17976205 0.18371947 0.19356293 0.20240451\n",
            " 0.20295554 0.20693801 0.20753914 0.19053225 0.17713212 0.17868503\n",
            " 0.18164058 0.17397621 0.16874139 0.17257358 0.17074515 0.17815905\n",
            " 0.18091421 0.1719474  0.16804008 0.17019411 0.17342517 0.16310582\n",
            " 0.15927364 0.15992486 0.1612273  0.16758923 0.16420789 0.16736381\n",
            " 0.17049468 0.17695679 0.18071384 0.17921102 0.18274264 0.18502192\n",
            " 0.18036318 0.18003757 0.1761052  0.17282405 0.17187226 0.16541014\n",
            " 0.16571071 0.16681277 0.16095178 0.15040701 0.15373826 0.15892298\n",
            " 0.16012523 0.16814026 0.17715717 0.17485285 0.18131497 0.18780213\n",
            " 0.19048215 0.1892799  0.19927364 0.19526612 0.20187852 0.2033062\n",
            " 0.20756418 0.20751409 0.21192235 0.20989355 0.2115717  0.2082154\n",
            " 0.20776456 0.20929242 0.20671259 0.20816531 0.21139637 0.20686287\n",
            " 0.21685661 0.21410144 0.2189856  0.22259236 0.21625548 0.22008766\n",
            " 0.22822793 0.22860363 0.2272511  0.22304321 0.22567314 0.22038823\n",
            " 0.22001252 0.21730745 0.21592987 0.21618034 0.21725736 0.21462743\n",
            " 0.19606012 0.19427854 0.19176731 0.18863812 0.18504545 0.18113384\n",
            " 0.17701924 0.17278618 0.16849211 0.16417316]\n",
            "10 day output [[0.15984997]]\n",
            "11 day input [0.17417658 0.17976205 0.18371947 0.19356293 0.20240451 0.20295554\n",
            " 0.20693801 0.20753914 0.19053225 0.17713212 0.17868503 0.18164058\n",
            " 0.17397621 0.16874139 0.17257358 0.17074515 0.17815905 0.18091421\n",
            " 0.1719474  0.16804008 0.17019411 0.17342517 0.16310582 0.15927364\n",
            " 0.15992486 0.1612273  0.16758923 0.16420789 0.16736381 0.17049468\n",
            " 0.17695679 0.18071384 0.17921102 0.18274264 0.18502192 0.18036318\n",
            " 0.18003757 0.1761052  0.17282405 0.17187226 0.16541014 0.16571071\n",
            " 0.16681277 0.16095178 0.15040701 0.15373826 0.15892298 0.16012523\n",
            " 0.16814026 0.17715717 0.17485285 0.18131497 0.18780213 0.19048215\n",
            " 0.1892799  0.19927364 0.19526612 0.20187852 0.2033062  0.20756418\n",
            " 0.20751409 0.21192235 0.20989355 0.2115717  0.2082154  0.20776456\n",
            " 0.20929242 0.20671259 0.20816531 0.21139637 0.20686287 0.21685661\n",
            " 0.21410144 0.2189856  0.22259236 0.21625548 0.22008766 0.22822793\n",
            " 0.22860363 0.2272511  0.22304321 0.22567314 0.22038823 0.22001252\n",
            " 0.21730745 0.21592987 0.21618034 0.21725736 0.21462743 0.19606012\n",
            " 0.19427854 0.19176731 0.18863812 0.18504545 0.18113384 0.17701924\n",
            " 0.17278618 0.16849211 0.16417316 0.15984997]\n",
            "11 day output [[0.15553257]]\n",
            "12 day input [0.17976205 0.18371947 0.19356293 0.20240451 0.20295554 0.20693801\n",
            " 0.20753914 0.19053225 0.17713212 0.17868503 0.18164058 0.17397621\n",
            " 0.16874139 0.17257358 0.17074515 0.17815905 0.18091421 0.1719474\n",
            " 0.16804008 0.17019411 0.17342517 0.16310582 0.15927364 0.15992486\n",
            " 0.1612273  0.16758923 0.16420789 0.16736381 0.17049468 0.17695679\n",
            " 0.18071384 0.17921102 0.18274264 0.18502192 0.18036318 0.18003757\n",
            " 0.1761052  0.17282405 0.17187226 0.16541014 0.16571071 0.16681277\n",
            " 0.16095178 0.15040701 0.15373826 0.15892298 0.16012523 0.16814026\n",
            " 0.17715717 0.17485285 0.18131497 0.18780213 0.19048215 0.1892799\n",
            " 0.19927364 0.19526612 0.20187852 0.2033062  0.20756418 0.20751409\n",
            " 0.21192235 0.20989355 0.2115717  0.2082154  0.20776456 0.20929242\n",
            " 0.20671259 0.20816531 0.21139637 0.20686287 0.21685661 0.21410144\n",
            " 0.2189856  0.22259236 0.21625548 0.22008766 0.22822793 0.22860363\n",
            " 0.2272511  0.22304321 0.22567314 0.22038823 0.22001252 0.21730745\n",
            " 0.21592987 0.21618034 0.21725736 0.21462743 0.19606012 0.19427854\n",
            " 0.19176731 0.18863812 0.18504545 0.18113384 0.17701924 0.17278618\n",
            " 0.16849211 0.16417316 0.15984997 0.15553257]\n",
            "12 day output [[0.15122378]]\n",
            "13 day input [0.18371947 0.19356293 0.20240451 0.20295554 0.20693801 0.20753914\n",
            " 0.19053225 0.17713212 0.17868503 0.18164058 0.17397621 0.16874139\n",
            " 0.17257358 0.17074515 0.17815905 0.18091421 0.1719474  0.16804008\n",
            " 0.17019411 0.17342517 0.16310582 0.15927364 0.15992486 0.1612273\n",
            " 0.16758923 0.16420789 0.16736381 0.17049468 0.17695679 0.18071384\n",
            " 0.17921102 0.18274264 0.18502192 0.18036318 0.18003757 0.1761052\n",
            " 0.17282405 0.17187226 0.16541014 0.16571071 0.16681277 0.16095178\n",
            " 0.15040701 0.15373826 0.15892298 0.16012523 0.16814026 0.17715717\n",
            " 0.17485285 0.18131497 0.18780213 0.19048215 0.1892799  0.19927364\n",
            " 0.19526612 0.20187852 0.2033062  0.20756418 0.20751409 0.21192235\n",
            " 0.20989355 0.2115717  0.2082154  0.20776456 0.20929242 0.20671259\n",
            " 0.20816531 0.21139637 0.20686287 0.21685661 0.21410144 0.2189856\n",
            " 0.22259236 0.21625548 0.22008766 0.22822793 0.22860363 0.2272511\n",
            " 0.22304321 0.22567314 0.22038823 0.22001252 0.21730745 0.21592987\n",
            " 0.21618034 0.21725736 0.21462743 0.19606012 0.19427854 0.19176731\n",
            " 0.18863812 0.18504545 0.18113384 0.17701924 0.17278618 0.16849211\n",
            " 0.16417316 0.15984997 0.15553257 0.15122378]\n",
            "13 day output [[0.14692225]]\n",
            "14 day input [0.19356293 0.20240451 0.20295554 0.20693801 0.20753914 0.19053225\n",
            " 0.17713212 0.17868503 0.18164058 0.17397621 0.16874139 0.17257358\n",
            " 0.17074515 0.17815905 0.18091421 0.1719474  0.16804008 0.17019411\n",
            " 0.17342517 0.16310582 0.15927364 0.15992486 0.1612273  0.16758923\n",
            " 0.16420789 0.16736381 0.17049468 0.17695679 0.18071384 0.17921102\n",
            " 0.18274264 0.18502192 0.18036318 0.18003757 0.1761052  0.17282405\n",
            " 0.17187226 0.16541014 0.16571071 0.16681277 0.16095178 0.15040701\n",
            " 0.15373826 0.15892298 0.16012523 0.16814026 0.17715717 0.17485285\n",
            " 0.18131497 0.18780213 0.19048215 0.1892799  0.19927364 0.19526612\n",
            " 0.20187852 0.2033062  0.20756418 0.20751409 0.21192235 0.20989355\n",
            " 0.2115717  0.2082154  0.20776456 0.20929242 0.20671259 0.20816531\n",
            " 0.21139637 0.20686287 0.21685661 0.21410144 0.2189856  0.22259236\n",
            " 0.21625548 0.22008766 0.22822793 0.22860363 0.2272511  0.22304321\n",
            " 0.22567314 0.22038823 0.22001252 0.21730745 0.21592987 0.21618034\n",
            " 0.21725736 0.21462743 0.19606012 0.19427854 0.19176731 0.18863812\n",
            " 0.18504545 0.18113384 0.17701924 0.17278618 0.16849211 0.16417316\n",
            " 0.15984997 0.15553257 0.15122378 0.14692225]\n",
            "14 day output [[0.14262389]]\n",
            "15 day input [0.20240451 0.20295554 0.20693801 0.20753914 0.19053225 0.17713212\n",
            " 0.17868503 0.18164058 0.17397621 0.16874139 0.17257358 0.17074515\n",
            " 0.17815905 0.18091421 0.1719474  0.16804008 0.17019411 0.17342517\n",
            " 0.16310582 0.15927364 0.15992486 0.1612273  0.16758923 0.16420789\n",
            " 0.16736381 0.17049468 0.17695679 0.18071384 0.17921102 0.18274264\n",
            " 0.18502192 0.18036318 0.18003757 0.1761052  0.17282405 0.17187226\n",
            " 0.16541014 0.16571071 0.16681277 0.16095178 0.15040701 0.15373826\n",
            " 0.15892298 0.16012523 0.16814026 0.17715717 0.17485285 0.18131497\n",
            " 0.18780213 0.19048215 0.1892799  0.19927364 0.19526612 0.20187852\n",
            " 0.2033062  0.20756418 0.20751409 0.21192235 0.20989355 0.2115717\n",
            " 0.2082154  0.20776456 0.20929242 0.20671259 0.20816531 0.21139637\n",
            " 0.20686287 0.21685661 0.21410144 0.2189856  0.22259236 0.21625548\n",
            " 0.22008766 0.22822793 0.22860363 0.2272511  0.22304321 0.22567314\n",
            " 0.22038823 0.22001252 0.21730745 0.21592987 0.21618034 0.21725736\n",
            " 0.21462743 0.19606012 0.19427854 0.19176731 0.18863812 0.18504545\n",
            " 0.18113384 0.17701924 0.17278618 0.16849211 0.16417316 0.15984997\n",
            " 0.15553257 0.15122378 0.14692225 0.14262389]\n",
            "15 day output [[0.13832381]]\n",
            "16 day input [0.20295554 0.20693801 0.20753914 0.19053225 0.17713212 0.17868503\n",
            " 0.18164058 0.17397621 0.16874139 0.17257358 0.17074515 0.17815905\n",
            " 0.18091421 0.1719474  0.16804008 0.17019411 0.17342517 0.16310582\n",
            " 0.15927364 0.15992486 0.1612273  0.16758923 0.16420789 0.16736381\n",
            " 0.17049468 0.17695679 0.18071384 0.17921102 0.18274264 0.18502192\n",
            " 0.18036318 0.18003757 0.1761052  0.17282405 0.17187226 0.16541014\n",
            " 0.16571071 0.16681277 0.16095178 0.15040701 0.15373826 0.15892298\n",
            " 0.16012523 0.16814026 0.17715717 0.17485285 0.18131497 0.18780213\n",
            " 0.19048215 0.1892799  0.19927364 0.19526612 0.20187852 0.2033062\n",
            " 0.20756418 0.20751409 0.21192235 0.20989355 0.2115717  0.2082154\n",
            " 0.20776456 0.20929242 0.20671259 0.20816531 0.21139637 0.20686287\n",
            " 0.21685661 0.21410144 0.2189856  0.22259236 0.21625548 0.22008766\n",
            " 0.22822793 0.22860363 0.2272511  0.22304321 0.22567314 0.22038823\n",
            " 0.22001252 0.21730745 0.21592987 0.21618034 0.21725736 0.21462743\n",
            " 0.19606012 0.19427854 0.19176731 0.18863812 0.18504545 0.18113384\n",
            " 0.17701924 0.17278618 0.16849211 0.16417316 0.15984997 0.15553257\n",
            " 0.15122378 0.14692225 0.14262389 0.13832381]\n",
            "16 day output [[0.13401686]]\n",
            "17 day input [0.20693801 0.20753914 0.19053225 0.17713212 0.17868503 0.18164058\n",
            " 0.17397621 0.16874139 0.17257358 0.17074515 0.17815905 0.18091421\n",
            " 0.1719474  0.16804008 0.17019411 0.17342517 0.16310582 0.15927364\n",
            " 0.15992486 0.1612273  0.16758923 0.16420789 0.16736381 0.17049468\n",
            " 0.17695679 0.18071384 0.17921102 0.18274264 0.18502192 0.18036318\n",
            " 0.18003757 0.1761052  0.17282405 0.17187226 0.16541014 0.16571071\n",
            " 0.16681277 0.16095178 0.15040701 0.15373826 0.15892298 0.16012523\n",
            " 0.16814026 0.17715717 0.17485285 0.18131497 0.18780213 0.19048215\n",
            " 0.1892799  0.19927364 0.19526612 0.20187852 0.2033062  0.20756418\n",
            " 0.20751409 0.21192235 0.20989355 0.2115717  0.2082154  0.20776456\n",
            " 0.20929242 0.20671259 0.20816531 0.21139637 0.20686287 0.21685661\n",
            " 0.21410144 0.2189856  0.22259236 0.21625548 0.22008766 0.22822793\n",
            " 0.22860363 0.2272511  0.22304321 0.22567314 0.22038823 0.22001252\n",
            " 0.21730745 0.21592987 0.21618034 0.21725736 0.21462743 0.19606012\n",
            " 0.19427854 0.19176731 0.18863812 0.18504545 0.18113384 0.17701924\n",
            " 0.17278618 0.16849211 0.16417316 0.15984997 0.15553257 0.15122378\n",
            " 0.14692225 0.14262389 0.13832381 0.13401686]\n",
            "17 day output [[0.12969862]]\n",
            "18 day input [0.20753914 0.19053225 0.17713212 0.17868503 0.18164058 0.17397621\n",
            " 0.16874139 0.17257358 0.17074515 0.17815905 0.18091421 0.1719474\n",
            " 0.16804008 0.17019411 0.17342517 0.16310582 0.15927364 0.15992486\n",
            " 0.1612273  0.16758923 0.16420789 0.16736381 0.17049468 0.17695679\n",
            " 0.18071384 0.17921102 0.18274264 0.18502192 0.18036318 0.18003757\n",
            " 0.1761052  0.17282405 0.17187226 0.16541014 0.16571071 0.16681277\n",
            " 0.16095178 0.15040701 0.15373826 0.15892298 0.16012523 0.16814026\n",
            " 0.17715717 0.17485285 0.18131497 0.18780213 0.19048215 0.1892799\n",
            " 0.19927364 0.19526612 0.20187852 0.2033062  0.20756418 0.20751409\n",
            " 0.21192235 0.20989355 0.2115717  0.2082154  0.20776456 0.20929242\n",
            " 0.20671259 0.20816531 0.21139637 0.20686287 0.21685661 0.21410144\n",
            " 0.2189856  0.22259236 0.21625548 0.22008766 0.22822793 0.22860363\n",
            " 0.2272511  0.22304321 0.22567314 0.22038823 0.22001252 0.21730745\n",
            " 0.21592987 0.21618034 0.21725736 0.21462743 0.19606012 0.19427854\n",
            " 0.19176731 0.18863812 0.18504545 0.18113384 0.17701924 0.17278618\n",
            " 0.16849211 0.16417316 0.15984997 0.15553257 0.15122378 0.14692225\n",
            " 0.14262389 0.13832381 0.13401686 0.12969862]\n",
            "18 day output [[0.12536563]]\n",
            "19 day input [0.19053225 0.17713212 0.17868503 0.18164058 0.17397621 0.16874139\n",
            " 0.17257358 0.17074515 0.17815905 0.18091421 0.1719474  0.16804008\n",
            " 0.17019411 0.17342517 0.16310582 0.15927364 0.15992486 0.1612273\n",
            " 0.16758923 0.16420789 0.16736381 0.17049468 0.17695679 0.18071384\n",
            " 0.17921102 0.18274264 0.18502192 0.18036318 0.18003757 0.1761052\n",
            " 0.17282405 0.17187226 0.16541014 0.16571071 0.16681277 0.16095178\n",
            " 0.15040701 0.15373826 0.15892298 0.16012523 0.16814026 0.17715717\n",
            " 0.17485285 0.18131497 0.18780213 0.19048215 0.1892799  0.19927364\n",
            " 0.19526612 0.20187852 0.2033062  0.20756418 0.20751409 0.21192235\n",
            " 0.20989355 0.2115717  0.2082154  0.20776456 0.20929242 0.20671259\n",
            " 0.20816531 0.21139637 0.20686287 0.21685661 0.21410144 0.2189856\n",
            " 0.22259236 0.21625548 0.22008766 0.22822793 0.22860363 0.2272511\n",
            " 0.22304321 0.22567314 0.22038823 0.22001252 0.21730745 0.21592987\n",
            " 0.21618034 0.21725736 0.21462743 0.19606012 0.19427854 0.19176731\n",
            " 0.18863812 0.18504545 0.18113384 0.17701924 0.17278618 0.16849211\n",
            " 0.16417316 0.15984997 0.15553257 0.15122378 0.14692225 0.14262389\n",
            " 0.13832381 0.13401686 0.12969862 0.12536563]\n",
            "19 day output [[0.12101557]]\n",
            "20 day input [0.17713212 0.17868503 0.18164058 0.17397621 0.16874139 0.17257358\n",
            " 0.17074515 0.17815905 0.18091421 0.1719474  0.16804008 0.17019411\n",
            " 0.17342517 0.16310582 0.15927364 0.15992486 0.1612273  0.16758923\n",
            " 0.16420789 0.16736381 0.17049468 0.17695679 0.18071384 0.17921102\n",
            " 0.18274264 0.18502192 0.18036318 0.18003757 0.1761052  0.17282405\n",
            " 0.17187226 0.16541014 0.16571071 0.16681277 0.16095178 0.15040701\n",
            " 0.15373826 0.15892298 0.16012523 0.16814026 0.17715717 0.17485285\n",
            " 0.18131497 0.18780213 0.19048215 0.1892799  0.19927364 0.19526612\n",
            " 0.20187852 0.2033062  0.20756418 0.20751409 0.21192235 0.20989355\n",
            " 0.2115717  0.2082154  0.20776456 0.20929242 0.20671259 0.20816531\n",
            " 0.21139637 0.20686287 0.21685661 0.21410144 0.2189856  0.22259236\n",
            " 0.21625548 0.22008766 0.22822793 0.22860363 0.2272511  0.22304321\n",
            " 0.22567314 0.22038823 0.22001252 0.21730745 0.21592987 0.21618034\n",
            " 0.21725736 0.21462743 0.19606012 0.19427854 0.19176731 0.18863812\n",
            " 0.18504545 0.18113384 0.17701924 0.17278618 0.16849211 0.16417316\n",
            " 0.15984997 0.15553257 0.15122378 0.14692225 0.14262389 0.13832381\n",
            " 0.13401686 0.12969862 0.12536563 0.12101557]\n",
            "20 day output [[0.11664748]]\n",
            "21 day input [0.17868503 0.18164058 0.17397621 0.16874139 0.17257358 0.17074515\n",
            " 0.17815905 0.18091421 0.1719474  0.16804008 0.17019411 0.17342517\n",
            " 0.16310582 0.15927364 0.15992486 0.1612273  0.16758923 0.16420789\n",
            " 0.16736381 0.17049468 0.17695679 0.18071384 0.17921102 0.18274264\n",
            " 0.18502192 0.18036318 0.18003757 0.1761052  0.17282405 0.17187226\n",
            " 0.16541014 0.16571071 0.16681277 0.16095178 0.15040701 0.15373826\n",
            " 0.15892298 0.16012523 0.16814026 0.17715717 0.17485285 0.18131497\n",
            " 0.18780213 0.19048215 0.1892799  0.19927364 0.19526612 0.20187852\n",
            " 0.2033062  0.20756418 0.20751409 0.21192235 0.20989355 0.2115717\n",
            " 0.2082154  0.20776456 0.20929242 0.20671259 0.20816531 0.21139637\n",
            " 0.20686287 0.21685661 0.21410144 0.2189856  0.22259236 0.21625548\n",
            " 0.22008766 0.22822793 0.22860363 0.2272511  0.22304321 0.22567314\n",
            " 0.22038823 0.22001252 0.21730745 0.21592987 0.21618034 0.21725736\n",
            " 0.21462743 0.19606012 0.19427854 0.19176731 0.18863812 0.18504545\n",
            " 0.18113384 0.17701924 0.17278618 0.16849211 0.16417316 0.15984997\n",
            " 0.15553257 0.15122378 0.14692225 0.14262389 0.13832381 0.13401686\n",
            " 0.12969862 0.12536563 0.12101557 0.11664748]\n",
            "21 day output [[0.11226163]]\n",
            "22 day input [0.18164058 0.17397621 0.16874139 0.17257358 0.17074515 0.17815905\n",
            " 0.18091421 0.1719474  0.16804008 0.17019411 0.17342517 0.16310582\n",
            " 0.15927364 0.15992486 0.1612273  0.16758923 0.16420789 0.16736381\n",
            " 0.17049468 0.17695679 0.18071384 0.17921102 0.18274264 0.18502192\n",
            " 0.18036318 0.18003757 0.1761052  0.17282405 0.17187226 0.16541014\n",
            " 0.16571071 0.16681277 0.16095178 0.15040701 0.15373826 0.15892298\n",
            " 0.16012523 0.16814026 0.17715717 0.17485285 0.18131497 0.18780213\n",
            " 0.19048215 0.1892799  0.19927364 0.19526612 0.20187852 0.2033062\n",
            " 0.20756418 0.20751409 0.21192235 0.20989355 0.2115717  0.2082154\n",
            " 0.20776456 0.20929242 0.20671259 0.20816531 0.21139637 0.20686287\n",
            " 0.21685661 0.21410144 0.2189856  0.22259236 0.21625548 0.22008766\n",
            " 0.22822793 0.22860363 0.2272511  0.22304321 0.22567314 0.22038823\n",
            " 0.22001252 0.21730745 0.21592987 0.21618034 0.21725736 0.21462743\n",
            " 0.19606012 0.19427854 0.19176731 0.18863812 0.18504545 0.18113384\n",
            " 0.17701924 0.17278618 0.16849211 0.16417316 0.15984997 0.15553257\n",
            " 0.15122378 0.14692225 0.14262389 0.13832381 0.13401686 0.12969862\n",
            " 0.12536563 0.12101557 0.11664748 0.11226163]\n",
            "22 day output [[0.10785928]]\n",
            "23 day input [0.17397621 0.16874139 0.17257358 0.17074515 0.17815905 0.18091421\n",
            " 0.1719474  0.16804008 0.17019411 0.17342517 0.16310582 0.15927364\n",
            " 0.15992486 0.1612273  0.16758923 0.16420789 0.16736381 0.17049468\n",
            " 0.17695679 0.18071384 0.17921102 0.18274264 0.18502192 0.18036318\n",
            " 0.18003757 0.1761052  0.17282405 0.17187226 0.16541014 0.16571071\n",
            " 0.16681277 0.16095178 0.15040701 0.15373826 0.15892298 0.16012523\n",
            " 0.16814026 0.17715717 0.17485285 0.18131497 0.18780213 0.19048215\n",
            " 0.1892799  0.19927364 0.19526612 0.20187852 0.2033062  0.20756418\n",
            " 0.20751409 0.21192235 0.20989355 0.2115717  0.2082154  0.20776456\n",
            " 0.20929242 0.20671259 0.20816531 0.21139637 0.20686287 0.21685661\n",
            " 0.21410144 0.2189856  0.22259236 0.21625548 0.22008766 0.22822793\n",
            " 0.22860363 0.2272511  0.22304321 0.22567314 0.22038823 0.22001252\n",
            " 0.21730745 0.21592987 0.21618034 0.21725736 0.21462743 0.19606012\n",
            " 0.19427854 0.19176731 0.18863812 0.18504545 0.18113384 0.17701924\n",
            " 0.17278618 0.16849211 0.16417316 0.15984997 0.15553257 0.15122378\n",
            " 0.14692225 0.14262389 0.13832381 0.13401686 0.12969862 0.12536563\n",
            " 0.12101557 0.11664748 0.11226163 0.10785928]\n",
            "23 day output [[0.10344255]]\n",
            "24 day input [0.16874139 0.17257358 0.17074515 0.17815905 0.18091421 0.1719474\n",
            " 0.16804008 0.17019411 0.17342517 0.16310582 0.15927364 0.15992486\n",
            " 0.1612273  0.16758923 0.16420789 0.16736381 0.17049468 0.17695679\n",
            " 0.18071384 0.17921102 0.18274264 0.18502192 0.18036318 0.18003757\n",
            " 0.1761052  0.17282405 0.17187226 0.16541014 0.16571071 0.16681277\n",
            " 0.16095178 0.15040701 0.15373826 0.15892298 0.16012523 0.16814026\n",
            " 0.17715717 0.17485285 0.18131497 0.18780213 0.19048215 0.1892799\n",
            " 0.19927364 0.19526612 0.20187852 0.2033062  0.20756418 0.20751409\n",
            " 0.21192235 0.20989355 0.2115717  0.2082154  0.20776456 0.20929242\n",
            " 0.20671259 0.20816531 0.21139637 0.20686287 0.21685661 0.21410144\n",
            " 0.2189856  0.22259236 0.21625548 0.22008766 0.22822793 0.22860363\n",
            " 0.2272511  0.22304321 0.22567314 0.22038823 0.22001252 0.21730745\n",
            " 0.21592987 0.21618034 0.21725736 0.21462743 0.19606012 0.19427854\n",
            " 0.19176731 0.18863812 0.18504545 0.18113384 0.17701924 0.17278618\n",
            " 0.16849211 0.16417316 0.15984997 0.15553257 0.15122378 0.14692225\n",
            " 0.14262389 0.13832381 0.13401686 0.12969862 0.12536563 0.12101557\n",
            " 0.11664748 0.11226163 0.10785928 0.10344255]\n",
            "24 day output [[0.09901429]]\n",
            "25 day input [0.17257358 0.17074515 0.17815905 0.18091421 0.1719474  0.16804008\n",
            " 0.17019411 0.17342517 0.16310582 0.15927364 0.15992486 0.1612273\n",
            " 0.16758923 0.16420789 0.16736381 0.17049468 0.17695679 0.18071384\n",
            " 0.17921102 0.18274264 0.18502192 0.18036318 0.18003757 0.1761052\n",
            " 0.17282405 0.17187226 0.16541014 0.16571071 0.16681277 0.16095178\n",
            " 0.15040701 0.15373826 0.15892298 0.16012523 0.16814026 0.17715717\n",
            " 0.17485285 0.18131497 0.18780213 0.19048215 0.1892799  0.19927364\n",
            " 0.19526612 0.20187852 0.2033062  0.20756418 0.20751409 0.21192235\n",
            " 0.20989355 0.2115717  0.2082154  0.20776456 0.20929242 0.20671259\n",
            " 0.20816531 0.21139637 0.20686287 0.21685661 0.21410144 0.2189856\n",
            " 0.22259236 0.21625548 0.22008766 0.22822793 0.22860363 0.2272511\n",
            " 0.22304321 0.22567314 0.22038823 0.22001252 0.21730745 0.21592987\n",
            " 0.21618034 0.21725736 0.21462743 0.19606012 0.19427854 0.19176731\n",
            " 0.18863812 0.18504545 0.18113384 0.17701924 0.17278618 0.16849211\n",
            " 0.16417316 0.15984997 0.15553257 0.15122378 0.14692225 0.14262389\n",
            " 0.13832381 0.13401686 0.12969862 0.12536563 0.12101557 0.11664748\n",
            " 0.11226163 0.10785928 0.10344255 0.09901429]\n",
            "25 day output [[0.09457765]]\n",
            "26 day input [0.17074515 0.17815905 0.18091421 0.1719474  0.16804008 0.17019411\n",
            " 0.17342517 0.16310582 0.15927364 0.15992486 0.1612273  0.16758923\n",
            " 0.16420789 0.16736381 0.17049468 0.17695679 0.18071384 0.17921102\n",
            " 0.18274264 0.18502192 0.18036318 0.18003757 0.1761052  0.17282405\n",
            " 0.17187226 0.16541014 0.16571071 0.16681277 0.16095178 0.15040701\n",
            " 0.15373826 0.15892298 0.16012523 0.16814026 0.17715717 0.17485285\n",
            " 0.18131497 0.18780213 0.19048215 0.1892799  0.19927364 0.19526612\n",
            " 0.20187852 0.2033062  0.20756418 0.20751409 0.21192235 0.20989355\n",
            " 0.2115717  0.2082154  0.20776456 0.20929242 0.20671259 0.20816531\n",
            " 0.21139637 0.20686287 0.21685661 0.21410144 0.2189856  0.22259236\n",
            " 0.21625548 0.22008766 0.22822793 0.22860363 0.2272511  0.22304321\n",
            " 0.22567314 0.22038823 0.22001252 0.21730745 0.21592987 0.21618034\n",
            " 0.21725736 0.21462743 0.19606012 0.19427854 0.19176731 0.18863812\n",
            " 0.18504545 0.18113384 0.17701924 0.17278618 0.16849211 0.16417316\n",
            " 0.15984997 0.15553257 0.15122378 0.14692225 0.14262389 0.13832381\n",
            " 0.13401686 0.12969862 0.12536563 0.12101557 0.11664748 0.11226163\n",
            " 0.10785928 0.10344255 0.09901429 0.09457765]\n",
            "26 day output [[0.09013606]]\n",
            "27 day input [0.17815905 0.18091421 0.1719474  0.16804008 0.17019411 0.17342517\n",
            " 0.16310582 0.15927364 0.15992486 0.1612273  0.16758923 0.16420789\n",
            " 0.16736381 0.17049468 0.17695679 0.18071384 0.17921102 0.18274264\n",
            " 0.18502192 0.18036318 0.18003757 0.1761052  0.17282405 0.17187226\n",
            " 0.16541014 0.16571071 0.16681277 0.16095178 0.15040701 0.15373826\n",
            " 0.15892298 0.16012523 0.16814026 0.17715717 0.17485285 0.18131497\n",
            " 0.18780213 0.19048215 0.1892799  0.19927364 0.19526612 0.20187852\n",
            " 0.2033062  0.20756418 0.20751409 0.21192235 0.20989355 0.2115717\n",
            " 0.2082154  0.20776456 0.20929242 0.20671259 0.20816531 0.21139637\n",
            " 0.20686287 0.21685661 0.21410144 0.2189856  0.22259236 0.21625548\n",
            " 0.22008766 0.22822793 0.22860363 0.2272511  0.22304321 0.22567314\n",
            " 0.22038823 0.22001252 0.21730745 0.21592987 0.21618034 0.21725736\n",
            " 0.21462743 0.19606012 0.19427854 0.19176731 0.18863812 0.18504545\n",
            " 0.18113384 0.17701924 0.17278618 0.16849211 0.16417316 0.15984997\n",
            " 0.15553257 0.15122378 0.14692225 0.14262389 0.13832381 0.13401686\n",
            " 0.12969862 0.12536563 0.12101557 0.11664748 0.11226163 0.10785928\n",
            " 0.10344255 0.09901429 0.09457765 0.09013606]\n",
            "27 day output [[0.08569302]]\n",
            "28 day input [0.18091421 0.1719474  0.16804008 0.17019411 0.17342517 0.16310582\n",
            " 0.15927364 0.15992486 0.1612273  0.16758923 0.16420789 0.16736381\n",
            " 0.17049468 0.17695679 0.18071384 0.17921102 0.18274264 0.18502192\n",
            " 0.18036318 0.18003757 0.1761052  0.17282405 0.17187226 0.16541014\n",
            " 0.16571071 0.16681277 0.16095178 0.15040701 0.15373826 0.15892298\n",
            " 0.16012523 0.16814026 0.17715717 0.17485285 0.18131497 0.18780213\n",
            " 0.19048215 0.1892799  0.19927364 0.19526612 0.20187852 0.2033062\n",
            " 0.20756418 0.20751409 0.21192235 0.20989355 0.2115717  0.2082154\n",
            " 0.20776456 0.20929242 0.20671259 0.20816531 0.21139637 0.20686287\n",
            " 0.21685661 0.21410144 0.2189856  0.22259236 0.21625548 0.22008766\n",
            " 0.22822793 0.22860363 0.2272511  0.22304321 0.22567314 0.22038823\n",
            " 0.22001252 0.21730745 0.21592987 0.21618034 0.21725736 0.21462743\n",
            " 0.19606012 0.19427854 0.19176731 0.18863812 0.18504545 0.18113384\n",
            " 0.17701924 0.17278618 0.16849211 0.16417316 0.15984997 0.15553257\n",
            " 0.15122378 0.14692225 0.14262389 0.13832381 0.13401686 0.12969862\n",
            " 0.12536563 0.12101557 0.11664748 0.11226163 0.10785928 0.10344255\n",
            " 0.09901429 0.09457765 0.09013606 0.08569302]\n",
            "28 day output [[0.08125201]]\n",
            "29 day input [0.1719474  0.16804008 0.17019411 0.17342517 0.16310582 0.15927364\n",
            " 0.15992486 0.1612273  0.16758923 0.16420789 0.16736381 0.17049468\n",
            " 0.17695679 0.18071384 0.17921102 0.18274264 0.18502192 0.18036318\n",
            " 0.18003757 0.1761052  0.17282405 0.17187226 0.16541014 0.16571071\n",
            " 0.16681277 0.16095178 0.15040701 0.15373826 0.15892298 0.16012523\n",
            " 0.16814026 0.17715717 0.17485285 0.18131497 0.18780213 0.19048215\n",
            " 0.1892799  0.19927364 0.19526612 0.20187852 0.2033062  0.20756418\n",
            " 0.20751409 0.21192235 0.20989355 0.2115717  0.2082154  0.20776456\n",
            " 0.20929242 0.20671259 0.20816531 0.21139637 0.20686287 0.21685661\n",
            " 0.21410144 0.2189856  0.22259236 0.21625548 0.22008766 0.22822793\n",
            " 0.22860363 0.2272511  0.22304321 0.22567314 0.22038823 0.22001252\n",
            " 0.21730745 0.21592987 0.21618034 0.21725736 0.21462743 0.19606012\n",
            " 0.19427854 0.19176731 0.18863812 0.18504545 0.18113384 0.17701924\n",
            " 0.17278618 0.16849211 0.16417316 0.15984997 0.15553257 0.15122378\n",
            " 0.14692225 0.14262389 0.13832381 0.13401686 0.12969862 0.12536563\n",
            " 0.12101557 0.11664748 0.11226163 0.10785928 0.10344255 0.09901429\n",
            " 0.09457765 0.09013606 0.08569302 0.08125201]\n",
            "29 day output [[0.07681631]]\n",
            "[[0.19606012105941772], [0.1942785382270813], [0.19176730513572693], [0.1886381208896637], [0.18504545092582703], [0.18113383650779724], [0.17701923847198486], [0.1727861762046814], [0.16849210858345032], [0.1641731560230255], [0.15984997153282166], [0.155532568693161], [0.1512237787246704], [0.1469222456216812], [0.1426238864660263], [0.1383238136768341], [0.13401685655117035], [0.12969861924648285], [0.12536562979221344], [0.12101557105779648], [0.11664748191833496], [0.11226163059473038], [0.1078592836856842], [0.10344254970550537], [0.0990142896771431], [0.09457764774560928], [0.09013605862855911], [0.08569302409887314], [0.08125200867652893], [0.07681630551815033]]\n"
          ]
        }
      ]
    },
    {
      "cell_type": "code",
      "source": [
        "day_new=np.arange(1,101)\n",
        "day_pred=np.arange(101,131)"
      ],
      "metadata": {
        "id": "ISnvP_RTliSH"
      },
      "execution_count": 38,
      "outputs": []
    },
    {
      "cell_type": "code",
      "source": [
        "import matplotlib.pyplot as plt\n",
        "len(df1)\n"
      ],
      "metadata": {
        "colab": {
          "base_uri": "https://localhost:8080/"
        },
        "id": "WaCzAfkpljeD",
        "outputId": "6bc9104d-9d65-4ed8-a96a-e0589c227460"
      },
      "execution_count": 39,
      "outputs": [
        {
          "output_type": "execute_result",
          "data": {
            "text/plain": [
              "1006"
            ]
          },
          "metadata": {},
          "execution_count": 39
        }
      ]
    },
    {
      "cell_type": "code",
      "source": [
        "plt.plot(day_new,scaler.inverse_transform(df1[906:]))\n",
        "plt.plot(day_pred,scaler.inverse_transform(lst_output))\n"
      ],
      "metadata": {
        "colab": {
          "base_uri": "https://localhost:8080/",
          "height": 447
        },
        "id": "pSVVJjxDmN3e",
        "outputId": "f0db9342-738d-4fe7-c44a-956f43871fac"
      },
      "execution_count": 40,
      "outputs": [
        {
          "output_type": "execute_result",
          "data": {
            "text/plain": [
              "[<matplotlib.lines.Line2D at 0x785a6fc3cbd0>]"
            ]
          },
          "metadata": {},
          "execution_count": 40
        },
        {
          "output_type": "display_data",
          "data": {
            "text/plain": [
              "<Figure size 640x480 with 1 Axes>"
            ],
            "image/png": "[encoded data removed]"
          },
          "metadata": {}
        }
      ]
    },
    {
      "cell_type": "code",
      "source": [
        "df3=df1.tolist()\n",
        "df3.extend(lst_output)\n",
        "plt.plot(df3[864:])"
      ],
      "metadata": {
        "colab": {
          "base_uri": "https://localhost:8080/",
          "height": 447
        },
        "id": "RSz8GlqImlbQ",
        "outputId": "064f538e-bc5f-48ea-91e4-42800c9e3629"
      },
      "execution_count": 41,
      "outputs": [
        {
          "output_type": "execute_result",
          "data": {
            "text/plain": [
              "[<matplotlib.lines.Line2D at 0x785a7c39c750>]"
            ]
          },
          "metadata": {},
          "execution_count": 41
        },
        {
          "output_type": "display_data",
          "data": {
            "text/plain": [
              "<Figure size 640x480 with 1 Axes>"
            ],
            "image/png": "[encoded data removed]"
          },
          "metadata": {}
        }
      ]
    },
    {
      "cell_type": "code",
      "source": [
        "df3=scaler.inverse_transform(df3).tolist()"
      ],
      "metadata": {
        "id": "D7gwKlefmyFi"
      },
      "execution_count": 42,
      "outputs": []
    },
    {
      "cell_type": "code",
      "source": [
        "plt.plot(df3)"
      ],
      "metadata": {
        "colab": {
          "base_uri": "https://localhost:8080/",
          "height": 447
        },
        "id": "hLhLJL1BmzVQ",
        "outputId": "97e2cee4-26c9-41c4-d715-8d2fb199bd7b"
      },
      "execution_count": 43,
      "outputs": [
        {
          "output_type": "execute_result",
          "data": {
            "text/plain": [
              "[<matplotlib.lines.Line2D at 0x785a7c501550>]"
            ]
          },
          "metadata": {},
          "execution_count": 43
        },
        {
          "output_type": "display_data",
          "data": {
            "text/plain": [
              "<Figure size 640x480 with 1 Axes>"
            ],
            "image/png": "[encoded data removed]"
          },
          "metadata": {}
        }
      ]
    }
  ]
}